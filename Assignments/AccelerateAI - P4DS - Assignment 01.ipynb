{
 "cells": [
  {
   "cell_type": "markdown",
   "id": "820d8be5",
   "metadata": {},
   "source": [
    "### AccelerateAI - Python for Data Science - Assignment 01"
   ]
  },
  {
   "cell_type": "markdown",
   "id": "5858364e",
   "metadata": {},
   "source": [
    "Q1. Write a python code to give the absolute difference between a given number and 100. <br>\n",
    " Input:50 ,  Output:50 <br>\n",
    " Input:125 ,  Output:25"
   ]
  },
  {
   "cell_type": "code",
   "execution_count": null,
   "id": "9da028ae",
   "metadata": {},
   "outputs": [],
   "source": []
  },
  {
   "cell_type": "markdown",
   "id": "59b60264",
   "metadata": {},
   "source": [
    "Q2. Write python code to check if a given number is divisible by 3, 5, or 7.<br>\n",
    "Input: 21, Output: divisible by 3 , 7.<br>\n",
    "Input: 22, Output: not divisible by 3, 5, or 7."
   ]
  },
  {
   "cell_type": "code",
   "execution_count": null,
   "id": "e4c629a9",
   "metadata": {},
   "outputs": [],
   "source": []
  },
  {
   "cell_type": "markdown",
   "id": "550de175",
   "metadata": {},
   "source": [
    "Q3 . Write a python code to count the number of characters in a given string.<br>\n",
    "Input:mystr = \"I love programming in python.\" <br>\n",
    "Output: 29"
   ]
  },
  {
   "cell_type": "code",
   "execution_count": null,
   "id": "8984ca70",
   "metadata": {},
   "outputs": [],
   "source": []
  },
  {
   "cell_type": "markdown",
   "id": "2435e986",
   "metadata": {},
   "source": [
    "Q4. Write python code to add a number to a tuple.<br>\n",
    "Input: (1,2,3) , 4 <br>\n",
    "Output: (1,2,3,4)  <br>"
   ]
  },
  {
   "cell_type": "code",
   "execution_count": null,
   "id": "6c95fab9",
   "metadata": {},
   "outputs": [],
   "source": []
  },
  {
   "cell_type": "markdown",
   "id": "03996eec",
   "metadata": {},
   "source": [
    "Q5. Write a python code to find the minimum and maximum value in a set.<br>\n",
    "Input: myset = {5, 10, 3, 15, 2, 20} <br>\n",
    "Output: <br>\n",
    "Maximum value: 20 <br>\n",
    "Minimum value: 2    "
   ]
  },
  {
   "cell_type": "code",
   "execution_count": null,
   "id": "8a453007",
   "metadata": {},
   "outputs": [],
   "source": []
  }
 ],
 "metadata": {
  "kernelspec": {
   "display_name": "Python 3 (ipykernel)",
   "language": "python",
   "name": "python3"
  },
  "language_info": {
   "codemirror_mode": {
    "name": "ipython",
    "version": 3
   },
   "file_extension": ".py",
   "mimetype": "text/x-python",
   "name": "python",
   "nbconvert_exporter": "python",
   "pygments_lexer": "ipython3",
   "version": "3.9.7"
  }
 },
 "nbformat": 4,
 "nbformat_minor": 5
}
