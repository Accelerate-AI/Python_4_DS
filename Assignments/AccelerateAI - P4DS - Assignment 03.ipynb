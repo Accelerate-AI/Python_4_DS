{
 "cells": [
  {
   "cell_type": "markdown",
   "id": "820d8be5",
   "metadata": {},
   "source": [
    "### AccelerateAI - Python for Data Science - Assignment 03"
   ]
  },
  {
   "cell_type": "markdown",
   "id": "5858364e",
   "metadata": {},
   "source": [
    "Q1. Write a Python program to write the content of a list to a file."
   ]
  },
  {
   "cell_type": "code",
   "execution_count": null,
   "id": "9da028ae",
   "metadata": {},
   "outputs": [],
   "source": []
  },
  {
   "cell_type": "markdown",
   "id": "59b60264",
   "metadata": {},
   "source": [
    "Q2. Write a Python program to write the content of one file into another."
   ]
  },
  {
   "cell_type": "code",
   "execution_count": null,
   "id": "e4c629a9",
   "metadata": {},
   "outputs": [],
   "source": []
  },
  {
   "cell_type": "markdown",
   "id": "eb72cb66",
   "metadata": {},
   "source": [
    "Q3. Write a Python program to count the number of lines in a text file"
   ]
  },
  {
   "cell_type": "code",
   "execution_count": null,
   "id": "00d7bce3",
   "metadata": {},
   "outputs": [],
   "source": []
  },
  {
   "cell_type": "markdown",
   "id": "8c80123d",
   "metadata": {},
   "source": [
    "Q4. Write a program in python to read a file “data.txt” and display only those lines whose length is more than 50 characters."
   ]
  },
  {
   "cell_type": "code",
   "execution_count": null,
   "id": "b7b60b5c",
   "metadata": {},
   "outputs": [],
   "source": []
  },
  {
   "cell_type": "markdown",
   "id": "550de175",
   "metadata": {},
   "source": [
    "Q5. Write a python function that takes two number a and b, and returns the quotient a/b.<br>\n",
    "     It should catch a ZeroDivisionError and write an appropriate error message.<br>\n",
    "Input:  20, 0 <br>\n",
    "Output: Division by 0 not allowed. "
   ]
  },
  {
   "cell_type": "code",
   "execution_count": null,
   "id": "8492f577",
   "metadata": {},
   "outputs": [],
   "source": []
  },
  {
   "cell_type": "markdown",
   "id": "1e2b326b",
   "metadata": {},
   "source": [
    "Q6. Write a python program to find if a given user input is numerical or string."
   ]
  },
  {
   "cell_type": "code",
   "execution_count": null,
   "id": "0e3f5be3",
   "metadata": {},
   "outputs": [],
   "source": []
  },
  {
   "cell_type": "markdown",
   "id": "7edc87be",
   "metadata": {},
   "source": [
    "Q7. Write a program to accept a string and display total number of alphabets."
   ]
  },
  {
   "cell_type": "code",
   "execution_count": null,
   "id": "0c30f162",
   "metadata": {},
   "outputs": [],
   "source": []
  }
 ],
 "metadata": {
  "kernelspec": {
   "display_name": "Python 3 (ipykernel)",
   "language": "python",
   "name": "python3"
  },
  "language_info": {
   "codemirror_mode": {
    "name": "ipython",
    "version": 3
   },
   "file_extension": ".py",
   "mimetype": "text/x-python",
   "name": "python",
   "nbconvert_exporter": "python",
   "pygments_lexer": "ipython3",
   "version": "3.9.7"
  }
 },
 "nbformat": 4,
 "nbformat_minor": 5
}
