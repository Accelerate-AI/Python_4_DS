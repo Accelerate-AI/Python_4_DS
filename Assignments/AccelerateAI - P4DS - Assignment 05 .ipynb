{
 "cells": [
  {
   "cell_type": "markdown",
   "id": "783e71fe",
   "metadata": {},
   "source": [
    "### AccelerateAI - Python for Data Science - Assignment 05"
   ]
  },
  {
   "cell_type": "code",
   "execution_count": null,
   "id": "80fcca0c",
   "metadata": {},
   "outputs": [],
   "source": [
    "import pandas as pd \n",
    "import numpy as np"
   ]
  },
  {
   "cell_type": "markdown",
   "id": "e4bcf288",
   "metadata": {},
   "source": [
    "Q1. Consider the dataframe <br>\n",
    "df: <br>\n",
    "Index  one   two <br>\n",
    "a 1.4  NaN  <br>\n",
    "b 7.1 -4.5  <br>\n",
    "c 3.2  3.5  <br>\n",
    "d 1.6  7.7  <br>\n",
    "\n",
    "Write code to get the sum for each column."
   ]
  },
  {
   "cell_type": "code",
   "execution_count": null,
   "id": "ba6774dd",
   "metadata": {},
   "outputs": [],
   "source": [
    "df = pd.DataFrame([[1.4, np.nan], [7.1, -4.5], [3.2, 3.5], [1.6, 7.7]], \n",
    "                  columns=['one', 'two'],\n",
    "                  index = ['a', 'b', 'c', 'd'])\n",
    "\n",
    "#write code here:\n",
    "\n"
   ]
  },
  {
   "cell_type": "markdown",
   "id": "d0291381",
   "metadata": {},
   "source": [
    "Q2. Consider the following dataframe<br> \n",
    "DF:\n",
    "\n",
    "|    |A\t  |B   |C   | \n",
    "| -- | -- | -- | -- |\n",
    "|0\t | 1 |\t2 |\t3  |\n",
    "|1\t | 5 |\t6 |\t8  |\n",
    "\n",
    "Write a statement to change values of column “C”. New values are (4, 9)"
   ]
  },
  {
   "cell_type": "code",
   "execution_count": null,
   "id": "d9dc86b8",
   "metadata": {},
   "outputs": [],
   "source": []
  },
  {
   "cell_type": "markdown",
   "id": "df1cb548",
   "metadata": {},
   "source": [
    "Q3. Consider the file garments.csv. <br>\n",
    "a) Which garment has the highest price?<br>\n",
    "b) Which garment has the lowest price?"
   ]
  },
  {
   "cell_type": "code",
   "execution_count": null,
   "id": "8d799ba9",
   "metadata": {},
   "outputs": [],
   "source": []
  },
  {
   "cell_type": "markdown",
   "id": "9a5fd562",
   "metadata": {},
   "source": [
    "Q4. Consider the sales for 5 different products, by 5 different sales person.\n",
    "\n",
    "np.random.seed(2022)<br>\n",
    "people = pd.DataFrame(np.random.randint(50, 100, size=(5,5)),<br>\n",
    "         columns=['Prod1', 'Prod2', 'Prod3', 'Prod4', 'Prod5'],<br>\n",
    "         index=['Joe', 'John', 'Jonny', 'Jim', 'Jack'])\n",
    "<br>\n",
    "<br>\n",
    "a) Print names of sales person who sold more than 80 items of product 2? <br>\n",
    "b) Find out who is the sales person of the month (highest average sales) ? "
   ]
  },
  {
   "cell_type": "code",
   "execution_count": null,
   "id": "146239fe",
   "metadata": {},
   "outputs": [],
   "source": []
  },
  {
   "cell_type": "code",
   "execution_count": null,
   "id": "ed192697",
   "metadata": {},
   "outputs": [],
   "source": []
  }
 ],
 "metadata": {
  "kernelspec": {
   "display_name": "Python 3 (ipykernel)",
   "language": "python",
   "name": "python3"
  },
  "language_info": {
   "codemirror_mode": {
    "name": "ipython",
    "version": 3
   },
   "file_extension": ".py",
   "mimetype": "text/x-python",
   "name": "python",
   "nbconvert_exporter": "python",
   "pygments_lexer": "ipython3",
   "version": "3.9.7"
  }
 },
 "nbformat": 4,
 "nbformat_minor": 5
}
