{
 "cells": [
  {
   "cell_type": "markdown",
   "id": "820d8be5",
   "metadata": {},
   "source": [
    "### AccelerateAI - Python for Data Science - Assignment 02"
   ]
  },
  {
   "cell_type": "markdown",
   "id": "5858364e",
   "metadata": {},
   "source": [
    "Q1. Write a python function to add two vectors.<br>\n",
    "Input: v1 = (3,5) , v2 = (2,3) <br>\n",
    "Output: (5,8)          "
   ]
  },
  {
   "cell_type": "code",
   "execution_count": null,
   "id": "9da028ae",
   "metadata": {},
   "outputs": [],
   "source": []
  },
  {
   "cell_type": "markdown",
   "id": "59b60264",
   "metadata": {},
   "source": [
    "Q2. Write a python function to check if a given character is a vowel or consonant.<br>\n",
    "Input: 'd' <br>\n",
    "Output: False"
   ]
  },
  {
   "cell_type": "code",
   "execution_count": null,
   "id": "e4c629a9",
   "metadata": {},
   "outputs": [],
   "source": []
  },
  {
   "cell_type": "markdown",
   "id": "550de175",
   "metadata": {},
   "source": [
    "Q3 . Write a python function that takes arbitrary number of items(numbers) and returns their sum.<br>\n",
    "Input: 3, 4, 5, 7, 9 <br>\n",
    "Output:28"
   ]
  },
  {
   "cell_type": "code",
   "execution_count": null,
   "id": "8492f577",
   "metadata": {},
   "outputs": [],
   "source": []
  },
  {
   "cell_type": "markdown",
   "id": "2435e986",
   "metadata": {},
   "source": [
    "Q4. Write a function in python to check whether a string is palindrome or not.<br>\n",
    "Input: \"racecar\" <br>\n",
    "Output: True"
   ]
  },
  {
   "cell_type": "code",
   "execution_count": null,
   "id": "6c95fab9",
   "metadata": {},
   "outputs": [],
   "source": []
  },
  {
   "cell_type": "markdown",
   "id": "03996eec",
   "metadata": {},
   "source": [
    "Q5. Write a function to add numbers from 0 to n using recursion.<br>\n",
    "Input: 10 <br>\n",
    "Output: 55"
   ]
  },
  {
   "cell_type": "code",
   "execution_count": null,
   "id": "8a453007",
   "metadata": {},
   "outputs": [],
   "source": []
  },
  {
   "cell_type": "code",
   "execution_count": null,
   "id": "742d5204",
   "metadata": {},
   "outputs": [],
   "source": []
  }
 ],
 "metadata": {
  "kernelspec": {
   "display_name": "Python 3 (ipykernel)",
   "language": "python",
   "name": "python3"
  },
  "language_info": {
   "codemirror_mode": {
    "name": "ipython",
    "version": 3
   },
   "file_extension": ".py",
   "mimetype": "text/x-python",
   "name": "python",
   "nbconvert_exporter": "python",
   "pygments_lexer": "ipython3",
   "version": "3.9.7"
  }
 },
 "nbformat": 4,
 "nbformat_minor": 5
}
