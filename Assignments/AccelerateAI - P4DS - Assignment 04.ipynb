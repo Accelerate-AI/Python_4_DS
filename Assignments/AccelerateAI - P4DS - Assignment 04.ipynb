{
 "cells": [
  {
   "cell_type": "markdown",
   "id": "806c0127",
   "metadata": {},
   "source": [
    "### AccelerateAI - Python for Data Science - Assignment 04"
   ]
  },
  {
   "cell_type": "markdown",
   "id": "2764c857",
   "metadata": {},
   "source": [
    "Q1. Create an array with values ranging from 11 to 45. "
   ]
  },
  {
   "cell_type": "code",
   "execution_count": 1,
   "id": "3e2363b4",
   "metadata": {},
   "outputs": [],
   "source": []
  },
  {
   "cell_type": "markdown",
   "id": "c494f485",
   "metadata": {},
   "source": [
    "Q2. Create a 4x4 array with alternate 1 and 0, as shown below:\n",
    "\n",
    "([1,0,1,0],<br>\n",
    " [0,1,0,1],<br>\n",
    " [1,0,1,0],<br>\n",
    " [0,1,0,1])"
   ]
  },
  {
   "cell_type": "code",
   "execution_count": null,
   "id": "12f6046b",
   "metadata": {},
   "outputs": [],
   "source": [
    "Z = np.zeros((4,4),dtype=int)\n",
    "Z[1::2,::2] = 1\n",
    "Z[::2,1::2] = 1\n",
    "print(Z)"
   ]
  },
  {
   "cell_type": "markdown",
   "id": "9cc8d4df",
   "metadata": {},
   "source": [
    "Q3. Write code to find the no of positive elements in this array.<br>\n",
    "myarray = np.array([[1,-2,3,4],[5,-6,7,-8],[9,-10,11,-12],[13,14,-15,-16]])<br>\n",
    "Ans: 9"
   ]
  },
  {
   "cell_type": "code",
   "execution_count": null,
   "id": "263444a3",
   "metadata": {},
   "outputs": [],
   "source": [
    "(myarray > 0).sum()"
   ]
  },
  {
   "cell_type": "markdown",
   "id": "2f1efff2",
   "metadata": {},
   "source": [
    "Q4. Given the 2 dimensional array below, find the column mean and subtract it from each value in that column.<br>\n",
    "myarray = np.arange(36).reshape(6,6)\n"
   ]
  },
  {
   "cell_type": "code",
   "execution_count": 15,
   "id": "682717f7",
   "metadata": {},
   "outputs": [],
   "source": []
  },
  {
   "cell_type": "markdown",
   "id": "392686ea",
   "metadata": {},
   "source": [
    "Q5. Create a subset array with only even values from the array below:<br>\n",
    "myarray = np.array([1, 12, 33, 44, 55, 66, 77, 88, 99, 100])"
   ]
  },
  {
   "cell_type": "code",
   "execution_count": null,
   "id": "f723e960",
   "metadata": {},
   "outputs": [],
   "source": [
    "my_vector = np.array([1, 2, 3, 4, 5, 6])\n",
    "selection = my_vector % 2 == 0\n",
    "my_vector[selection]"
   ]
  }
 ],
 "metadata": {
  "kernelspec": {
   "display_name": "Python 3 (ipykernel)",
   "language": "python",
   "name": "python3"
  },
  "language_info": {
   "codemirror_mode": {
    "name": "ipython",
    "version": 3
   },
   "file_extension": ".py",
   "mimetype": "text/x-python",
   "name": "python",
   "nbconvert_exporter": "python",
   "pygments_lexer": "ipython3",
   "version": "3.9.7"
  }
 },
 "nbformat": 4,
 "nbformat_minor": 5
}
