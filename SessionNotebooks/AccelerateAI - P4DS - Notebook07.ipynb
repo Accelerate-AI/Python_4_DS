{
 "cells": [
  {
   "cell_type": "markdown",
   "metadata": {},
   "source": [
    "### AccelerateAI - Python for Data Science\n",
    "##### Introduction to Python Language  (Python 3) \n",
    "Data visualization is a visual (or graphic) representation of data to find useful insights (i.e. trends and patterns) in the data and making the process of data analysis easier and simpler.\n",
    "\n",
    "In this Notebook we will cover the following: \n",
    "1. Drawing Basic Plots\n",
    "2. Customizing Plots \n",
    "3. Interactive Plots \n",
    "***"
   ]
  },
  {
   "cell_type": "markdown",
   "metadata": {},
   "source": [
    "There are many plotting libraries in Python. Here we will use the four most popular Python plotting libraries\n",
    "   - Matplotlib \n",
    "   - Seaborn\n",
    "   - Plotly\n",
    "    \n",
    "###### Matplotlib \n",
    "This is the oldest Python plotting library, and it's still the most popular. It was created in 2003 as part of the SciPy Stack, an open source scientific computing library similar to Matlab.Matplotlib gives very precise control over each plot.\n",
    "\n",
    "\n",
    "###### Seaborn\n",
    "Seaborn is an abstraction layer on top of Matplotlib; it gives you a really neat interface to make a wide range of useful plot types very easily.Seaborn's code is simpler than the raw Matplotlib. \n",
    "\n",
    "\n",
    "###### Plotly\n",
    "Plotly is a plotting ecosystem that includes a Python plotting library.Plotly plots are designed to be embedded in web apps.It creates charts that are dynamic. \n"
   ]
  },
  {
   "cell_type": "markdown",
   "metadata": {},
   "source": [
    "### 1. Basic Plots "
   ]
  },
  {
   "cell_type": "code",
   "execution_count": null,
   "metadata": {},
   "outputs": [],
   "source": [
    "import matplotlib as mpl \n",
    "import matplotlib.pyplot as plt\n",
    "import seaborn as sns\n",
    "import plotly.express as px\n",
    "import numpy as np\n",
    "import random"
   ]
  },
  {
   "cell_type": "code",
   "execution_count": null,
   "metadata": {},
   "outputs": [],
   "source": [
    "plt.plot([1,2,3,2,3,2,2,1])               # Y values provides. X values are taken by default"
   ]
  },
  {
   "cell_type": "code",
   "execution_count": null,
   "metadata": {},
   "outputs": [],
   "source": [
    "x = [1,2,3,4]\n",
    "y = [1,4,2,3]\n",
    "plt.(x,y)"
   ]
  },
  {
   "cell_type": "code",
   "execution_count": null,
   "metadata": {},
   "outputs": [],
   "source": [
    "# create new figure\n",
    "plt.figure()\n",
    "\n",
    "# divide subplots into 2 x 2 grid and select #1\n",
    "plt.subplot()\n",
    "plt.plot(x, y)\n",
    "\n",
    "# vertical bar chart\n",
    "plt.subplot(222)\n",
    "plt.bar(x, y)\n",
    "\n",
    "# horizontal bar-charts\n",
    "plt.subplot(223)\n",
    "plt.barh(x, y)\n",
    "\n",
    "# create stacked bar charts\n",
    "plt.subplot(224)\n",
    "plt.bar(x, y)\n",
    "\n",
    "##plt.show()"
   ]
  },
  {
   "cell_type": "code",
   "execution_count": null,
   "metadata": {},
   "outputs": [],
   "source": [
    "#Statistical Plots \n",
    "import pandas as pd \n",
    "\n",
    "weather_df = pd.read_csv(\"city_temp.csv\")\n",
    "weather_df.drop(\"month\", inplace=True, axis=1)\n",
    "weather_df.head()"
   ]
  },
  {
   "cell_type": "code",
   "execution_count": null,
   "metadata": {},
   "outputs": [],
   "source": [
    "fig, (ax1, ax2) = plt.subplots(nrows=1, ncols=2, figsize=(9, 4))\n",
    "\n",
    "labels = [\"New Delhi\", \"Mumbai\", \"Bengaluru\", \"Kolkata\"]\n",
    "# rectangular box plot\n",
    "bplot1 = ax1.boxplot(weather_df,\n",
    "                     vert=True,          # vertical box alignment\n",
    "                     patch_artist=True,  # fill with color\n",
    "                     labels=labels)      # will be used to label x-ticks\n",
    "ax1.set_title('Rectangular box plot')\n",
    "\n",
    "# notch shape box plot\n",
    "bplot2 = ax2.boxplot(weather_df,\n",
    "                     notch=True,         # notch shape\n",
    "                     vert=True,          # vertical box alignment\n",
    "                     patch_artist=True,  # fill with color\n",
    "                     labels=labels)      # will be used to label x-ticks\n",
    "ax2.set_title('Notched box plot')\n",
    "\n",
    "# fill with colors\n",
    "colors = ['pink', 'lightblue', 'lightgreen', 'lightyellow']\n",
    "for bplot in (bplot1, bplot2):\n",
    "    for patch, color in zip(bplot['boxes'], colors):\n",
    "        patch.set_facecolor(color)\n",
    "\n",
    "# adding horizontal grid lines\n",
    "for ax in [ax1, ax2]:\n",
    "    ax.yaxis.grid(True)\n",
    "    ax.set_xlabel('Climate in Four Cities')\n",
    "    ax.set_ylabel('Average Temp Range')\n",
    "\n",
    "plt.show()"
   ]
  },
  {
   "cell_type": "raw",
   "metadata": {},
   "source": [
    "Matlotlib make easy things easy and hard things possibles.\n",
    "Seaborn tries to make a well-defined set of hard things easy too."
   ]
  },
  {
   "cell_type": "markdown",
   "metadata": {},
   "source": [
    "####  Seaborn Plots:\n",
    "<img src=\"seaborn_plots.png\" style=\"width:500px\">"
   ]
  },
  {
   "cell_type": "code",
   "execution_count": null,
   "metadata": {},
   "outputs": [],
   "source": [
    "#Seaborn requires much less coding as compared to matplotlib. \n",
    "sns.(data = weather_df).set_title(\"Climate in Four Cities\")                     #boxplot"
   ]
  },
  {
   "cell_type": "code",
   "execution_count": null,
   "metadata": {},
   "outputs": [],
   "source": [
    "#Scatter plot \n",
    "season_df = pd.read_csv(\"seasons.csv\")\n",
    "season_df.head()"
   ]
  },
  {
   "cell_type": "code",
   "execution_count": null,
   "metadata": {},
   "outputs": [],
   "source": [
    "sns.(data=season_df, x=\"Avg temp\", hue=\"City\", multiple=\"stack\")                 #displot"
   ]
  },
  {
   "cell_type": "code",
   "execution_count": null,
   "metadata": {},
   "outputs": [],
   "source": [
    "sns.displot(data=season_df, x=\"Avg temp\", hue=\"City\", multiple=\"stack\", )        #kind=\"kde\""
   ]
  },
  {
   "cell_type": "code",
   "execution_count": null,
   "metadata": {},
   "outputs": [],
   "source": [
    "sns.displot(data=season_df, x=\"Avg temp\", hue=\"City\", )                          #col=\"City\""
   ]
  },
  {
   "cell_type": "code",
   "execution_count": null,
   "metadata": {},
   "outputs": [],
   "source": [
    "sns.relplot(data=season_df, x=\"Avg temp\", y=\"Rainfall\", hue=\"City\");"
   ]
  },
  {
   "cell_type": "code",
   "execution_count": null,
   "metadata": {},
   "outputs": [],
   "source": [
    "sns.swarmplot(x='City', y='Rainfall', data=season_df).(\"Swarmplot: Rainfall in 4 Cities\")         # set_title"
   ]
  },
  {
   "cell_type": "code",
   "execution_count": null,
   "metadata": {},
   "outputs": [],
   "source": [
    "sns.lmplot(x='Rainfall', y='Avg temp', data=season_df, hue='City')"
   ]
  },
  {
   "cell_type": "code",
   "execution_count": null,
   "metadata": {},
   "outputs": [],
   "source": [
    "#Density plot\n",
    "g = sns.FacetGrid(season_df, row=\"City\",           # Varible on which to split the data\n",
    "                  height=1.7, aspect=4,)\n",
    "g.map(sns.kdeplot, \"Rainfall\")                     #Type of plot, Variable to be plotted"
   ]
  },
  {
   "cell_type": "code",
   "execution_count": null,
   "metadata": {},
   "outputs": [],
   "source": [
    "#Contour plot\n",
    "sns.kdeplot(data=season_df, x=\"Avg temp\", y= \"Rainfall\")"
   ]
  },
  {
   "cell_type": "markdown",
   "metadata": {},
   "source": [
    "### 2. Customizing Plots"
   ]
  },
  {
   "cell_type": "markdown",
   "metadata": {},
   "source": [
    "There are three ways to customize Matplotlib:\n",
    "- Setting rcParams at runtime.\n",
    "- Using style sheets.\n",
    "- Changing your matplotlibrc file"
   ]
  },
  {
   "cell_type": "code",
   "execution_count": null,
   "metadata": {},
   "outputs": [],
   "source": [
    "#rcParams() in matplotlib \n",
    "mpl.rcParams['lines.linewidth'] = 2\n",
    "mpl.rcParams['lines.linestyle'] = '--'\n",
    "data = np.random.randn(50)\n",
    "plt.plot(data)"
   ]
  },
  {
   "cell_type": "code",
   "execution_count": null,
   "metadata": {},
   "outputs": [],
   "source": [
    "mpl.rcParams['lines.linestyle'] = ':'\n",
    "mpl.rcParams['lines.linewidth'] = 3\n",
    "mpl.rcParams['font.sans-serif'] = 'Arial'   \n",
    "mpl.rcParams['xtick.color'] = 'blue'\n",
    "mpl.rcParams['ytick.color'] = 'red'\n",
    "\n",
    "plt.plot(data)"
   ]
  },
  {
   "cell_type": "markdown",
   "metadata": {},
   "source": [
    "###### To customize the elements like title, x and y labels, figure size etc there are functions available."
   ]
  },
  {
   "cell_type": "code",
   "execution_count": null,
   "metadata": {},
   "outputs": [],
   "source": [
    "sns.set_theme(style=\"ticks\", palette=\"pastel\")                                #Set themes \n",
    "\n",
    "sns.boxplot(data = weather_df,\n",
    "            palette=[\"r\", \"b\", \"g\", \"y\"],  \n",
    "            saturation = 0.9,    \n",
    "            orient=\"h\",                                                        #orientation\n",
    "            order=[\"Bengaluru\", \"Kolkata\", \"New Delhi\", \"Mumbai\"]              #Control the order \n",
    "           ).set_title(\"Climate in Four Cities\")                    "
   ]
  },
  {
   "cell_type": "markdown",
   "metadata": {},
   "source": [
    "### 3. Interactive Plots "
   ]
  },
  {
   "cell_type": "markdown",
   "metadata": {},
   "source": [
    "###### Plotly's Python graphing library makes interactive, publication-quality graphs.\n",
    "- Plotly is an open source graphing library for creating interactive charts and maps for Python, R, Julia, Javascript and others.\n",
    "- The primary classes defined in the plotly.graph_objects module are Figure an FigureWidgets\n",
    "- Plotly Express (recommended entry-point into the plotly library) are all built on top of graph objects\n",
    "    - Plotly Express provides more than 30 functions for creating different types of figures. \n",
    "    - The API for these functions was carefully designed to be as consistent and easy to learn as possible\n",
    "    - Link: https://plotly.com/python/plotly-express/"
   ]
  },
  {
   "cell_type": "code",
   "execution_count": null,
   "metadata": {},
   "outputs": [],
   "source": [
    "import plotly.express as px"
   ]
  },
  {
   "cell_type": "code",
   "execution_count": null,
   "metadata": {},
   "outputs": [],
   "source": [
    "#Plotting stock Data\n",
    "df = px.data.stocks()\n",
    "fig = px.(df, x='date', y=[\"MSFT\",\"GOOG\",'FB',\"AMZN\"])                        #line\n",
    "fig.show()"
   ]
  },
  {
   "cell_type": "code",
   "execution_count": null,
   "metadata": {},
   "outputs": [],
   "source": [
    "melb_df= pd.read_csv(\"melb_data.csv\")\n",
    "melb_df.sample(5).T"
   ]
  },
  {
   "cell_type": "code",
   "execution_count": null,
   "metadata": {},
   "outputs": [],
   "source": [
    "melb_df.Type.value_counts()               # h - house(villa,house), u - unit(in an apartment), t - others"
   ]
  },
  {
   "cell_type": "code",
   "execution_count": null,
   "metadata": {},
   "outputs": [],
   "source": [
    "# Plot a pie chart showing the distribution of no of rooms \n",
    "fig = px.pie(\n",
    "    melb_df,\n",
    "    names = 'Rooms',\n",
    "    title = 'Distibution by # Rooms',\n",
    "    color_discrete_sequence = px.colors.sequential.Magma\n",
    ")\n",
    "\n",
    "fig.show()"
   ]
  },
  {
   "cell_type": "code",
   "execution_count": null,
   "metadata": {},
   "outputs": [],
   "source": [
    "#3D Scatter plot - Price variation by distance and area \n",
    "fig = px.scatter_3d(melb_df, \n",
    "                    x='Landsize', \n",
    "                    y='Distance', \n",
    "                    z='Price',\n",
    "                    color='Type', \n",
    "                    opacity=0.7\n",
    "                   )\n",
    "fig.show()"
   ]
  },
  {
   "cell_type": "code",
   "execution_count": null,
   "metadata": {},
   "outputs": [],
   "source": [
    "#Map view \n",
    "fig = px.scatter_geo(melb_df, \n",
    "                     lat =\"Lattitude\", \n",
    "                     lon =\"Longtitude\",\n",
    "                     color = \"Type\" \n",
    "                     )\n",
    "fig.show()"
   ]
  },
  {
   "cell_type": "markdown",
   "metadata": {},
   "source": [
    "### That's it folks !\n",
    "\n",
    "#### Best wishes to you all, and hope to see you again."
   ]
  },
  {
   "cell_type": "code",
   "execution_count": null,
   "metadata": {},
   "outputs": [],
   "source": []
  }
 ],
 "metadata": {
  "kernelspec": {
   "display_name": "Python 3 (ipykernel)",
   "language": "python",
   "name": "python3"
  },
  "language_info": {
   "codemirror_mode": {
    "name": "ipython",
    "version": 3
   },
   "file_extension": ".py",
   "mimetype": "text/x-python",
   "name": "python",
   "nbconvert_exporter": "python",
   "pygments_lexer": "ipython3",
   "version": "3.9.7"
  }
 },
 "nbformat": 4,
 "nbformat_minor": 2
}
