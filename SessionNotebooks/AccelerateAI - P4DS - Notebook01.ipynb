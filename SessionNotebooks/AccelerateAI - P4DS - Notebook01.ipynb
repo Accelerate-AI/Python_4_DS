{
 "cells": [
  {
   "cell_type": "markdown",
   "metadata": {},
   "source": [
    "<img src=\"pythonwebinar.png\" style=\"width:650px\">\n",
    "\n",
    "### AccelerateAI - Python for Data Science - Notebook 01\n",
    "##### Introduction to Python Language  (Python 3) \n",
    "In this notebook we will cover the following: \n",
    "* 0. A note on Python 2 vs Python 3 <br>\n",
    "* 1. Data Types        <br> \n",
    "* 2. Variables & Expressions<br>\n",
    "* 3. Language  Basics  <br>\n",
    "***"
   ]
  },
  {
   "cell_type": "markdown",
   "metadata": {
    "heading_collapsed": true
   },
   "source": [
    "### 0. A note on Python 2 vs. Python 3\n",
    "* There are 2 major versions of Python in widespread use: Python 2 and Python 3. <br>\n",
    "* Below is a timeline of the release of the various versions of the Python.\n",
    "\n",
    "|S.No|Python 2.0 | Python 3.0  |\n",
    "| :-| --- | :- | \n",
    "|First Release  | Python 2.0 – Oct 16, 2000    | Python 3.0   – Dec 3, 2008 |\n",
    "|Latest Release | Python 2.7- Apr,20, 2020     | Python 3.10.4- Mar 24, 2022 |\n",
    "\n",
    "**Comparison of Python 2 & Python 3:**\n",
    "* Ease of Syntax: Python 2 has more complicated syntax than Python 3.\n",
    "* “Print” Keyword:\tIn Python 2, print is considered to be a statement.In Python 3, print is a function.\n",
    "* String Storage :  In Python 2, strings are stored as ASCII by default. In Python 3, strings are stored as UNICODE by default.\n",
    "* Integer Division: Division of two integers yields an integer value in Python 2. For instance, 7/2 yields 3 in Python 2. On the division of two integers, we get a floating-point value in Python 3.\n",
    "* Exceptions\t: In Python 2, exceptions are enclosed in notations. In Python 3, exceptions are enclosed in parentheses.\n",
    "* Iteration\t: In Python 2, the xrange() function has been defined for iterations. In Python 3, the new Range() function was introduced to perform iterations.\n",
    "* Libraries: A lot of libraries of Python 2 are not forward compatible.\tMany libraries created in Python 3 can only work with Python 3.\n",
    "* Application: Python 2 was mostly used for application development.Python 3 is used in a lot of fields like Software Engineering, Data Science, web development etc.\n",
    "\n",
    "#### Why are we using Python 3.x?\n",
    "- Python 2 is no longer updated since 2020. \n",
    "- Python 3 is more popular than Python 2 and is still in active development. \n",
    "- Hence we will use Python 3.8 or later for all our work."
   ]
  },
  {
   "cell_type": "markdown",
   "metadata": {},
   "source": [
    "### 1. Data Types in Python\n",
    "- Numeric Types:\tint, float, complex\n",
    "- Text Type:\tstr\n",
    "- Sequence Types:\tlist, tuple, range\n",
    "- Mapping Type:\tdict\n",
    "- Set Types:\tset, frozenset\n",
    "- Boolean Type:\tbool\n",
    "- Binary Types:\tbytes, bytearray, memoryview"
   ]
  },
  {
   "cell_type": "code",
   "execution_count": 1,
   "metadata": {},
   "outputs": [
    {
     "data": {
      "text/plain": [
       "1"
      ]
     },
     "execution_count": 1,
     "metadata": {},
     "output_type": "execute_result"
    }
   ],
   "source": [
    "1                        # python understands this is a number"
   ]
  },
  {
   "cell_type": "code",
   "execution_count": 2,
   "metadata": {},
   "outputs": [
    {
     "data": {
      "text/plain": [
       "13"
      ]
     },
     "execution_count": 2,
     "metadata": {},
     "output_type": "execute_result"
    }
   ],
   "source": [
    "1+5+7                # additions of numbers"
   ]
  },
  {
   "cell_type": "code",
   "execution_count": 3,
   "metadata": {},
   "outputs": [
    {
     "data": {
      "text/plain": [
       "19"
      ]
     },
     "execution_count": 3,
     "metadata": {},
     "output_type": "execute_result"
    }
   ],
   "source": [
    "2+3*5+5-3             # BODMAS"
   ]
  },
  {
   "cell_type": "markdown",
   "metadata": {},
   "source": [
    "Mathematical Operator Precedence Rule:<br>\n",
    "BODMAS - **B**rackets, **O**rder(exponent) , **D**ivision, **M**ultiplication, **A**ddition, **S**ubstraction\n",
    "\n",
    "Python Precedence:\n",
    "- () : Parenthesis First!\n",
    "- ** : Exponentiation.\n",
    "- *, @, /, //, % : all same precedence L to R.\n",
    "- +, - : all same precedence L to R.\n",
    "\n",
    "For above example: 2 + (3*5) + 5 - 3  = (2 + 15 + 5) - 3  =  22 - 3  =  19"
   ]
  },
  {
   "cell_type": "code",
   "execution_count": 4,
   "metadata": {},
   "outputs": [
    {
     "data": {
      "text/plain": [
       "0.3333333333333333"
      ]
     },
     "execution_count": 4,
     "metadata": {},
     "output_type": "execute_result"
    }
   ],
   "source": [
    "1/3                        # division yields a floating point number"
   ]
  },
  {
   "cell_type": "code",
   "execution_count": 5,
   "metadata": {},
   "outputs": [
    {
     "data": {
      "text/plain": [
       "20.869565217391305"
      ]
     },
     "execution_count": 5,
     "metadata": {},
     "output_type": "execute_result"
    }
   ],
   "source": [
    "48/2.3                     # floating point "
   ]
  },
  {
   "cell_type": "code",
   "execution_count": 6,
   "metadata": {},
   "outputs": [
    {
     "data": {
      "text/plain": [
       "20.0"
      ]
     },
     "execution_count": 6,
     "metadata": {},
     "output_type": "execute_result"
    }
   ],
   "source": [
    "48//2.3                    # floor division - returns integer value "
   ]
  },
  {
   "cell_type": "code",
   "execution_count": 7,
   "metadata": {},
   "outputs": [
    {
     "data": {
      "text/plain": [
       "17.5"
      ]
     },
     "execution_count": 7,
     "metadata": {},
     "output_type": "execute_result"
    }
   ],
   "source": [
    "5*3.5                      # multiplication "
   ]
  },
  {
   "cell_type": "code",
   "execution_count": 8,
   "metadata": {},
   "outputs": [
    {
     "data": {
      "text/plain": [
       "16"
      ]
     },
     "execution_count": 8,
     "metadata": {},
     "output_type": "execute_result"
    }
   ],
   "source": [
    "2**4                       # exponentiating"
   ]
  },
  {
   "cell_type": "code",
   "execution_count": 9,
   "metadata": {},
   "outputs": [
    {
     "data": {
      "text/plain": [
       "0"
      ]
     },
     "execution_count": 9,
     "metadata": {},
     "output_type": "execute_result"
    }
   ],
   "source": [
    "4%2                        # modulus - good way to check an even number"
   ]
  },
  {
   "cell_type": "code",
   "execution_count": 10,
   "metadata": {},
   "outputs": [
    {
     "data": {
      "text/plain": [
       "1"
      ]
     },
     "execution_count": 10,
     "metadata": {},
     "output_type": "execute_result"
    }
   ],
   "source": [
    "5%2 "
   ]
  },
  {
   "cell_type": "code",
   "execution_count": 11,
   "metadata": {},
   "outputs": [
    {
     "data": {
      "text/plain": [
       "0.5"
      ]
     },
     "execution_count": 11,
     "metadata": {},
     "output_type": "execute_result"
    }
   ],
   "source": [
    "4.5%2"
   ]
  },
  {
   "cell_type": "code",
   "execution_count": 12,
   "metadata": {},
   "outputs": [
    {
     "data": {
      "text/plain": [
       "float"
      ]
     },
     "execution_count": 12,
     "metadata": {},
     "output_type": "execute_result"
    }
   ],
   "source": [
    "x = 1                      # int\n",
    "y = 2.8                    # float\n",
    "z = x+y                    # automatic type conversion\n",
    "type(z)"
   ]
  },
  {
   "cell_type": "markdown",
   "metadata": {},
   "source": [
    "#### Complex numbers"
   ]
  },
  {
   "cell_type": "code",
   "execution_count": 13,
   "metadata": {},
   "outputs": [
    {
     "name": "stdout",
     "output_type": "stream",
     "text": [
      "(2+3j)\n"
     ]
    }
   ],
   "source": [
    "z = complex (2 , 3)\n",
    "print (z)"
   ]
  },
  {
   "cell_type": "code",
   "execution_count": null,
   "metadata": {},
   "outputs": [],
   "source": [
    "z.real , z.imag"
   ]
  },
  {
   "cell_type": "code",
   "execution_count": null,
   "metadata": {},
   "outputs": [],
   "source": [
    "type(z)"
   ]
  },
  {
   "cell_type": "markdown",
   "metadata": {},
   "source": [
    "#### Strings \n",
    "Strings can be thought of as sequences of characters.Note that strings are immutable i.e. once created it cannot be changed!"
   ]
  },
  {
   "cell_type": "code",
   "execution_count": null,
   "metadata": {},
   "outputs": [],
   "source": [
    "s = 'hello'                # characters within quotes\n",
    "#print(s)"
   ]
  },
  {
   "cell_type": "code",
   "execution_count": null,
   "metadata": {},
   "outputs": [],
   "source": [
    "a = \"5\"\n",
    "b = '10'\n",
    "#print(a + b)                # magic happens - will find out later that this is just science at work! "
   ]
  },
  {
   "cell_type": "code",
   "execution_count": null,
   "metadata": {},
   "outputs": [],
   "source": [
    "s = 'hello'                 # indexing strings \n",
    "s[1]                        # counting starts at 0"
   ]
  },
  {
   "cell_type": "code",
   "execution_count": null,
   "metadata": {},
   "outputs": [],
   "source": [
    "s[0:2]                      # slicing - from 0 upto but not including 2"
   ]
  },
  {
   "cell_type": "code",
   "execution_count": null,
   "metadata": {},
   "outputs": [],
   "source": [
    "s[:3]                       # slicing - from beginign upto but not including 3 "
   ]
  },
  {
   "cell_type": "code",
   "execution_count": null,
   "metadata": {},
   "outputs": [],
   "source": [
    "s[-1]                       # -1 {its not -0} starts from end and goes reverse "
   ]
  },
  {
   "cell_type": "code",
   "execution_count": null,
   "metadata": {},
   "outputs": [],
   "source": [
    "# All types of quotes are Ok.\n",
    "a = 'single quotes'\n",
    "b = \"double quotes\"\n",
    "n = \"wrap 'single quotes' with double quote\"\n",
    "#print ( a, b, n)"
   ]
  },
  {
   "cell_type": "code",
   "execution_count": null,
   "metadata": {},
   "outputs": [],
   "source": [
    "# multi-line string\n",
    "ml_string = '''this is a multi\n",
    "line string that\n",
    "spans across 3 lines'''\n",
    "\n",
    "#print(ml_string)"
   ]
  },
  {
   "cell_type": "code",
   "execution_count": null,
   "metadata": {},
   "outputs": [],
   "source": [
    "#strings are immutable - can't be changed once created\n",
    "a = 'Hello'\n",
    "#a[0] = 'J' "
   ]
  },
  {
   "cell_type": "code",
   "execution_count": null,
   "metadata": {},
   "outputs": [],
   "source": [
    "# Special Operators for strings\n",
    "a = \"hello\"\n",
    "b = \"world\"\n",
    "c = a+b                    # concatenate - with no space in between\n",
    "#print(c)            "
   ]
  },
  {
   "cell_type": "code",
   "execution_count": null,
   "metadata": {},
   "outputs": [],
   "source": [
    "# Multiplication with a number\n",
    "a = '#'\n",
    "#print(a*50)                # will this give an error?"
   ]
  },
  {
   "cell_type": "code",
   "execution_count": null,
   "metadata": {},
   "outputs": [],
   "source": [
    "#String methods\n",
    "claim = \"Python is awesome!\"\n",
    "\n",
    "#claim.upper()                # all uppercase"
   ]
  },
  {
   "cell_type": "code",
   "execution_count": null,
   "metadata": {},
   "outputs": [],
   "source": [
    "claim.lower()                # all lowercase"
   ]
  },
  {
   "cell_type": "code",
   "execution_count": null,
   "metadata": {},
   "outputs": [],
   "source": [
    "#claim.startswith('python')   # case sensitive"
   ]
  },
  {
   "cell_type": "code",
   "execution_count": null,
   "metadata": {},
   "outputs": [],
   "source": [
    "claim.endswith('awesome!')   "
   ]
  },
  {
   "cell_type": "code",
   "execution_count": null,
   "metadata": {},
   "outputs": [],
   "source": [
    "#claim.find('is')             # start position of the substring - counting starts from 0"
   ]
  },
  {
   "cell_type": "code",
   "execution_count": null,
   "metadata": {},
   "outputs": [],
   "source": [
    "#str.split() turns a string into a list of smaller strings, breaking on whitespace by default\n",
    "words = claim.split()\n",
    "#words"
   ]
  },
  {
   "cell_type": "code",
   "execution_count": null,
   "metadata": {},
   "outputs": [],
   "source": [
    "# It can split on other characters as well\n",
    "datestring = '01/31/1956'\n",
    "month, day, year = datestring.split('/')\n",
    "\n",
    "#print(year, month, day)"
   ]
  },
  {
   "cell_type": "markdown",
   "metadata": {},
   "source": [
    "#### list - similar to array in many ways"
   ]
  },
  {
   "cell_type": "code",
   "execution_count": null,
   "metadata": {},
   "outputs": [],
   "source": [
    "my_list = ['a', 'b', 'c', 'd', 'e', 'f', 'g']   \n",
    "#print(my_list)"
   ]
  },
  {
   "cell_type": "code",
   "execution_count": null,
   "metadata": {},
   "outputs": [],
   "source": [
    "my_list.append('d')                       # add to list"
   ]
  },
  {
   "cell_type": "code",
   "execution_count": null,
   "metadata": {},
   "outputs": [],
   "source": [
    "type(my_list)                             # check data type"
   ]
  },
  {
   "cell_type": "code",
   "execution_count": null,
   "metadata": {},
   "outputs": [],
   "source": [
    "#my_list[0:-2]                             # index lists - index starts from 0.  [start : end but not including]"
   ]
  },
  {
   "cell_type": "code",
   "execution_count": null,
   "metadata": {},
   "outputs": [],
   "source": [
    "my_list[5:2]                              # start > end ?"
   ]
  },
  {
   "cell_type": "code",
   "execution_count": null,
   "metadata": {},
   "outputs": [],
   "source": [
    "my_list[-1]                               # -ve index : starts from end"
   ]
  },
  {
   "cell_type": "code",
   "execution_count": null,
   "metadata": {},
   "outputs": [],
   "source": [
    "my_list[::2]                              # slicing has 3 parameters with last 2 being optional [<start>:<stop>:<step>]"
   ]
  },
  {
   "cell_type": "code",
   "execution_count": null,
   "metadata": {},
   "outputs": [],
   "source": [
    "#What is this doing?\n",
    "#my_list[::-1]        "
   ]
  },
  {
   "cell_type": "code",
   "execution_count": null,
   "metadata": {},
   "outputs": [],
   "source": [
    "my_list[0] = \"999\"                           # reassign values of list\n",
    "print(my_list)"
   ]
  },
  {
   "cell_type": "code",
   "execution_count": null,
   "metadata": {},
   "outputs": [],
   "source": [
    "n_list = [1,2,3,[1,2,3,[1,2,'target']]]     #nested list\n",
    "print(n_list)"
   ]
  },
  {
   "cell_type": "code",
   "execution_count": null,
   "metadata": {},
   "outputs": [],
   "source": [
    "n_list[3]"
   ]
  },
  {
   "cell_type": "code",
   "execution_count": null,
   "metadata": {},
   "outputs": [],
   "source": [
    "n_list[3][3]"
   ]
  },
  {
   "cell_type": "code",
   "execution_count": null,
   "metadata": {},
   "outputs": [],
   "source": [
    "#n_list[3][3][2]"
   ]
  },
  {
   "cell_type": "code",
   "execution_count": null,
   "metadata": {},
   "outputs": [],
   "source": [
    "#list \n",
    "my_list = ['b', 'a', 'c', 'd', 'f']\n",
    "\n",
    "my_list.reverse()                           #reverse the list\n",
    "#print(my_list)"
   ]
  },
  {
   "cell_type": "code",
   "execution_count": null,
   "metadata": {},
   "outputs": [],
   "source": [
    "my_list.sort()                               #sort the list\n",
    "#print(my_list)"
   ]
  },
  {
   "cell_type": "code",
   "execution_count": null,
   "metadata": {},
   "outputs": [],
   "source": [
    "my_list.pop(3)                               #removes the element at specified position\n",
    "#print(my_list)"
   ]
  },
  {
   "cell_type": "code",
   "execution_count": null,
   "metadata": {},
   "outputs": [],
   "source": [
    "my_list.clear()                              #removes all the elements of the list\n",
    "#print(my_list)"
   ]
  },
  {
   "cell_type": "code",
   "execution_count": 17,
   "metadata": {},
   "outputs": [],
   "source": [
    "# Addition operator = Concatenation\n",
    "\n",
    "list1 = [1,2,3,4,5]\n",
    "list2 = [6,7,8,9,10]\n",
    "\n",
    "#list1 + list2"
   ]
  },
  {
   "cell_type": "code",
   "execution_count": 19,
   "metadata": {},
   "outputs": [],
   "source": [
    "# Multiplication operator = repetition\n",
    "#3 * list1"
   ]
  },
  {
   "cell_type": "markdown",
   "metadata": {},
   "source": [
    "#### tuple - similar to list but unmutable (cannot be changed)\n",
    "\n",
    "Benefits/Uses of tuple:\n",
    " - Tuples are stored in a single block of memory, hence faster to access than list.\n",
    " - Tuples are useful for representing a **full record** - related information that belongs together.\n",
    " - Tuples are used when we do not want to change something after it has been assigned like names of US states."
   ]
  },
  {
   "cell_type": "code",
   "execution_count": null,
   "metadata": {},
   "outputs": [],
   "source": [
    "t = (1,2,3)"
   ]
  },
  {
   "cell_type": "code",
   "execution_count": null,
   "metadata": {},
   "outputs": [],
   "source": [
    "#print(t[0])"
   ]
  },
  {
   "cell_type": "code",
   "execution_count": null,
   "metadata": {},
   "outputs": [],
   "source": [
    "#tuple is immutable\n",
    "t[0] = 5                                            # will give an error"
   ]
  },
  {
   "cell_type": "code",
   "execution_count": null,
   "metadata": {},
   "outputs": [],
   "source": [
    "bob = (\"Bob\", 25, \"RockStar\")                        # tuple packing\n",
    "#print(bob)"
   ]
  },
  {
   "cell_type": "code",
   "execution_count": null,
   "metadata": {},
   "outputs": [],
   "source": [
    "maria = (\"maria\", 22, \"Data Analyst\")\n",
    "(name, age, profession) = maria                     # tuple unpacking \n",
    "\n",
    "#print(\"Maria's profession is:\", profession)"
   ]
  },
  {
   "cell_type": "code",
   "execution_count": null,
   "metadata": {},
   "outputs": [],
   "source": [
    "# Nifty use of tuple packing/unpacking\n",
    "a = 100\n",
    "b = 200\n",
    "\n",
    "(a, b) = (b, a)                                      # what is this doing?\n",
    "\n",
    "#print(a,b)"
   ]
  },
  {
   "cell_type": "code",
   "execution_count": null,
   "metadata": {},
   "outputs": [],
   "source": [
    "# Need exact same number of variables\n",
    "(a, b, c, d) = (1, 2, 3)"
   ]
  },
  {
   "cell_type": "code",
   "execution_count": null,
   "metadata": {},
   "outputs": [],
   "source": [
    "# wildcard operator\n",
    "(a, *b) = (1, 2, 3)\n",
    "#print(b)"
   ]
  },
  {
   "cell_type": "code",
   "execution_count": null,
   "metadata": {},
   "outputs": [],
   "source": [
    "(*a, b) = (1, 2, 3, 4)                               # what is the value of b ?    \n",
    "#print(b)"
   ]
  },
  {
   "cell_type": "code",
   "execution_count": null,
   "metadata": {},
   "outputs": [],
   "source": [
    "# tuples can have tuples inside them\n",
    "julia_info = ( (\"Julia\", \"Roberts\"), (8, \"October\", 1967), \"Actress\", (\"Atlanta/Georgia\"))\n",
    "\n",
    "print(julia_info)"
   ]
  },
  {
   "cell_type": "code",
   "execution_count": null,
   "metadata": {},
   "outputs": [],
   "source": [
    "# iterate through a tuple\n",
    "for item in julia_info:\n",
    "    print(item)"
   ]
  },
  {
   "cell_type": "code",
   "execution_count": null,
   "metadata": {},
   "outputs": [],
   "source": [
    "# + operator for tuple\n",
    "\n",
    "t1 = (100,200,300)\n",
    "t2 = (500,600,700)\n",
    "\n",
    "#t1 + t2                                           # combines the two"
   ]
  },
  {
   "cell_type": "code",
   "execution_count": null,
   "metadata": {},
   "outputs": [],
   "source": [
    "# * operator for tuple\n",
    "\n",
    "#t1*3                                              # repeates 3 times"
   ]
  },
  {
   "cell_type": "markdown",
   "metadata": {},
   "source": [
    "#### Set is collection of \"unique\" elements"
   ]
  },
  {
   "cell_type": "code",
   "execution_count": null,
   "metadata": {},
   "outputs": [],
   "source": [
    "# Creating a set\n",
    "s = {1,2,3,4,5,5,4,3,2,1}                             # curly braces"
   ]
  },
  {
   "cell_type": "code",
   "execution_count": null,
   "metadata": {},
   "outputs": [],
   "source": [
    "#print(s)"
   ]
  },
  {
   "cell_type": "code",
   "execution_count": null,
   "metadata": {},
   "outputs": [],
   "source": [
    "s.add(6)                                              # add to a set\n",
    "#print(s)"
   ]
  },
  {
   "cell_type": "code",
   "execution_count": null,
   "metadata": {},
   "outputs": [],
   "source": [
    "s.pop()                                               # removes first element \n",
    "#print(s)"
   ]
  },
  {
   "cell_type": "markdown",
   "metadata": {},
   "source": [
    "#### Set Operations"
   ]
  },
  {
   "cell_type": "code",
   "execution_count": null,
   "metadata": {},
   "outputs": [],
   "source": [
    "A = {1, 2, 3, 4, 5}\n",
    "B = {4, 5, 6, 7, 8}\n",
    "\n",
    "# Set union: | operator\n",
    "print(\"A U B\", A | B)                                 # Also -> A.union(B) or B.union(A) \n",
    "\n",
    "#Set intersection: & operator\n",
    "#print(\"A int B:\", A & B)                             # Also -> A.intersection(B)\n",
    "\n",
    "#Set difference: - operator\n",
    "#print(\"A diff B\", A - B)\n",
    "\n",
    "#Set symmetric difference (All but common elements): ^ operator\n",
    "print(\"A common B:\", A ^ B)"
   ]
  },
  {
   "cell_type": "code",
   "execution_count": null,
   "metadata": {},
   "outputs": [],
   "source": [
    "#range\n",
    "X = range(10)                                         # remember where it ends!\n",
    "#print(X)"
   ]
  },
  {
   "cell_type": "code",
   "execution_count": null,
   "metadata": {},
   "outputs": [],
   "source": [
    "X[0]"
   ]
  },
  {
   "cell_type": "code",
   "execution_count": null,
   "metadata": {},
   "outputs": [],
   "source": [
    "#X[10]"
   ]
  },
  {
   "cell_type": "code",
   "execution_count": null,
   "metadata": {},
   "outputs": [],
   "source": [
    "type(X)"
   ]
  },
  {
   "cell_type": "markdown",
   "metadata": {},
   "source": [
    "#### Dict - key value pairs just like a hash table"
   ]
  },
  {
   "cell_type": "code",
   "execution_count": null,
   "metadata": {},
   "outputs": [],
   "source": [
    "dict1  =  {'key1':'Kamal', 'key2': 100, 5: \"Sachin\"}"
   ]
  },
  {
   "cell_type": "code",
   "execution_count": null,
   "metadata": {},
   "outputs": [],
   "source": [
    "dict1['key1']                                                       # value accessed using key"
   ]
  },
  {
   "cell_type": "code",
   "execution_count": null,
   "metadata": {},
   "outputs": [],
   "source": [
    "#what will this print?\n",
    "#dict1[5]"
   ]
  },
  {
   "cell_type": "code",
   "execution_count": null,
   "metadata": {},
   "outputs": [],
   "source": [
    "type(dict1)"
   ]
  },
  {
   "cell_type": "code",
   "execution_count": null,
   "metadata": {},
   "outputs": [],
   "source": [
    "# get the keys of dictionary\n",
    "#dict1.keys()"
   ]
  },
  {
   "cell_type": "code",
   "execution_count": null,
   "metadata": {},
   "outputs": [],
   "source": [
    "# get the values of dictionary\n",
    "#dict1.values()"
   ]
  },
  {
   "cell_type": "code",
   "execution_count": null,
   "metadata": {},
   "outputs": [],
   "source": [
    "# add a new key-value pair to the dictionary\n",
    "dict1[\"Pooja\"] = \"Student\"\n",
    "#dict1"
   ]
  },
  {
   "cell_type": "code",
   "execution_count": null,
   "metadata": {},
   "outputs": [],
   "source": [
    "# remove a key-value pair from the dictionary\n",
    "del dict1[\"key2\"]\n",
    "dict1"
   ]
  },
  {
   "cell_type": "code",
   "execution_count": null,
   "metadata": {},
   "outputs": [],
   "source": [
    "#Get the key for largest value in a dict?\n",
    "answered = {'Maria': 19, 'Anurag': 17,'Jawed': 12,'Neha': 10,'Mehuya': 15, 'Pamela': 10, 'Sachin' : 5}\n",
    "\n",
    "#max(answered, key=answered.get)                                 # who has answered the most no of questions?"
   ]
  },
  {
   "cell_type": "code",
   "execution_count": null,
   "metadata": {},
   "outputs": [],
   "source": [
    "min(answered, key=answered.get)                                 # who has answered the least no of questions?"
   ]
  },
  {
   "cell_type": "code",
   "execution_count": null,
   "metadata": {},
   "outputs": [],
   "source": [
    "# iterate through a dictionary\n",
    "for k, v in answered.items():\n",
    "    print(\"Name:\",k,\"| Marks:\",v)"
   ]
  },
  {
   "cell_type": "code",
   "execution_count": null,
   "metadata": {},
   "outputs": [],
   "source": [
    "# Check if a key is in the dictionary\n",
    "if \"Maria\" in answered:\n",
    "    print(\"Maria took the quiz.\")\n",
    "    \n",
    "if \"Sashi\" in answered:\n",
    "    print(\"Sashi took the quiz.\")"
   ]
  },
  {
   "cell_type": "code",
   "execution_count": null,
   "metadata": {},
   "outputs": [],
   "source": [
    "# Create a dictionary of lists\n",
    "dict_of_lists = {\"a\":[1,2,3],\"b\":[4,5,6],\"c\":[7,8,9]}\n",
    "\n",
    "#dict_of_lists"
   ]
  },
  {
   "cell_type": "code",
   "execution_count": null,
   "metadata": {},
   "outputs": [],
   "source": [
    "dict_of_lists[\"b\"]"
   ]
  },
  {
   "cell_type": "code",
   "execution_count": null,
   "metadata": {},
   "outputs": [],
   "source": [
    "dict_of_lists[\"b\"][1]"
   ]
  },
  {
   "cell_type": "markdown",
   "metadata": {},
   "source": [
    "#### Boolean variables"
   ]
  },
  {
   "cell_type": "code",
   "execution_count": null,
   "metadata": {},
   "outputs": [],
   "source": [
    "a1 = True\n",
    "type(a1)"
   ]
  },
  {
   "cell_type": "code",
   "execution_count": null,
   "metadata": {},
   "outputs": [],
   "source": [
    "p1 = (1 ,2 ,[3,'A'])\n",
    "p1[2][1] = 4 \n",
    "p1"
   ]
  },
  {
   "cell_type": "markdown",
   "metadata": {},
   "source": [
    "### 2. Variable & Expressions\n",
    "- variable name must start with a letter or the underscore character\n",
    "- variable name cannot start with a number\n",
    "- variable name can only contain alpha-numeric characters and underscores (A-z, 0-9, and _ )\n",
    "- can be of arbitrary length\n",
    "- variables do not need to be declared with any particular type\n",
    "- type can be changed even after they have been set\n",
    "- variable names are case-sensitive"
   ]
  },
  {
   "cell_type": "markdown",
   "metadata": {},
   "source": [
    "#### Important point about Variables:\n",
    "- There are no variables in Python - unlike other languages like C or R \n",
    "- Python has **names** and **objects**.\n",
    "- Assignment binds a name to an object.\n",
    "- Passing an argument into a function also binds a name\n",
    "\n",
    "When we talk about any python object, we should say: <br>\n",
    " **“Name A is assigned to the List”, but never “The List  is assigned to variable A”.**"
   ]
  },
  {
   "cell_type": "code",
   "execution_count": null,
   "metadata": {},
   "outputs": [],
   "source": [
    "a = 1                         # binds the name a to an object of type integer that holds the value 1.\n",
    "b = a                         # b also point to the same object as a.\n",
    "\n",
    "b = 3                         # now the name b is bound to another object. a doesn't change\n",
    "#print(a, b)"
   ]
  },
  {
   "cell_type": "code",
   "execution_count": 22,
   "metadata": {},
   "outputs": [],
   "source": [
    "#another example\n",
    "a = [1, 2, 3]\n",
    "b = [1,2,3]"
   ]
  },
  {
   "cell_type": "code",
   "execution_count": 24,
   "metadata": {},
   "outputs": [],
   "source": [
    "b = ['Python','is', 'Strange']             # will this give an error?        \n",
    "#print (a, b)                             "
   ]
  },
  {
   "cell_type": "code",
   "execution_count": null,
   "metadata": {},
   "outputs": [],
   "source": [
    "# Which of the following is incorrect variable name? \n",
    "myvar = \"John\"   \n",
    "my_var = \"John\"\n",
    "my__var = \"John\"\n",
    "_my_var = \"John\"\n",
    "myVar = \"John\""
   ]
  },
  {
   "cell_type": "code",
   "execution_count": null,
   "metadata": {},
   "outputs": [],
   "source": [
    "x = y = z = 5                              # assigning the same value to multiple variables in one statement"
   ]
  },
  {
   "cell_type": "code",
   "execution_count": null,
   "metadata": {},
   "outputs": [],
   "source": [
    "#print ( x, y, z)"
   ]
  },
  {
   "cell_type": "code",
   "execution_count": null,
   "metadata": {},
   "outputs": [],
   "source": [
    "x, y, z = 10, 200, 300                     # assigning different values to multiple variables in one statement"
   ]
  },
  {
   "cell_type": "code",
   "execution_count": null,
   "metadata": {},
   "outputs": [],
   "source": [
    "#print ( x, y, z)"
   ]
  },
  {
   "cell_type": "code",
   "execution_count": null,
   "metadata": {},
   "outputs": [],
   "source": [
    "fruits = [\"apple\", \"banana\", \"cherry\"]\n",
    "x, y, z = fruits                           # unpacking a list\n",
    "#print(x, y, z)"
   ]
  },
  {
   "cell_type": "code",
   "execution_count": null,
   "metadata": {},
   "outputs": [],
   "source": [
    "# What will this print?\n",
    "\n",
    "fruits = [\"apple\", \"banana\", \"cherry\"]\n",
    "x, *y  = fruits                        \n",
    "#print(x)"
   ]
  },
  {
   "cell_type": "markdown",
   "metadata": {},
   "source": [
    "#### 2.2 Casting from one type to another"
   ]
  },
  {
   "cell_type": "code",
   "execution_count": null,
   "metadata": {},
   "outputs": [],
   "source": [
    "x = int(4.257) \n",
    "y = str(2.0)\n",
    "val = float(\"2.56\")"
   ]
  },
  {
   "cell_type": "code",
   "execution_count": null,
   "metadata": {},
   "outputs": [],
   "source": [
    "#print(x, type(x))"
   ]
  },
  {
   "cell_type": "code",
   "execution_count": null,
   "metadata": {},
   "outputs": [],
   "source": [
    "print(y, type(y))"
   ]
  },
  {
   "cell_type": "code",
   "execution_count": null,
   "metadata": {},
   "outputs": [],
   "source": [
    "#print(val, type(val))"
   ]
  },
  {
   "cell_type": "markdown",
   "metadata": {},
   "source": [
    "### 3. Language Basics\n",
    "- Operators\n",
    "    - Arithmetic : +, - , *, /, %, ** , // \n",
    "    - Bitwise    : &, |, ^, ~, >>, <<\n",
    "    - Assignment : =, +=, -=, *=, /=, &= , ^= etc.\n",
    "    - Comparison : ==, !=, >, < , >=, <= \n",
    "    - Logical    : and, or, not\n",
    "    - Identity   : is, is not\n",
    "    - Membership : in, not in\n",
    "- Conditional statements ( if, elif, else)\n",
    "- Loops ( for, while)"
   ]
  },
  {
   "cell_type": "code",
   "execution_count": null,
   "metadata": {},
   "outputs": [],
   "source": [
    "2 << 1                                    # shift 00000010 to 00000100 "
   ]
  },
  {
   "cell_type": "code",
   "execution_count": null,
   "metadata": {},
   "outputs": [],
   "source": [
    "#shorthand if else syntax - also called  Ternary Operators \n",
    "a = 2\n",
    "b = 330\n",
    "#print(\"A\") if a > b else print(\"B\")"
   ]
  },
  {
   "cell_type": "code",
   "execution_count": null,
   "metadata": {},
   "outputs": [],
   "source": [
    "# can have more than one condition as well\n",
    "a = b = 330\n",
    "#print(\"A\") if a > b else print(\"Equal\") if a == b else print(\"B\")"
   ]
  },
  {
   "cell_type": "code",
   "execution_count": null,
   "metadata": {},
   "outputs": [],
   "source": [
    "#Nested if\n",
    "x = 41\n",
    "if x > 10:\n",
    "    print(\"You have chosen a number greater than 10\")\n",
    "    if x > 20:\n",
    "        print(\"Its also above 20 .. Good choice!\")\n",
    "    else:\n",
    "        print(\"but not above 20.\")"
   ]
  },
  {
   "cell_type": "code",
   "execution_count": null,
   "metadata": {},
   "outputs": [],
   "source": [
    "# The pass Statement - if statements cannot be empty. Put in the pass statement to avoid getting an error.\n",
    "a = 2\n",
    "\n",
    "if a == 2:\n",
    "    pass\n"
   ]
  },
  {
   "cell_type": "markdown",
   "metadata": {},
   "source": [
    "#### 3.3 Loops\n",
    "for loop:\n",
    "   - A for loop is used for iterating over a sequence (that is either a list, a tuple, a dictionary, a set, or a string).\n",
    "   - This is less like the for keyword in other programming languages, and works more like an iterator method (similar to R).\n",
    "   - Using for loop we can execute a set of statements, once for each item in a list, tuple, set etc.\n",
    "   - C for loop example: for (i = 1; i < 11; ++i) {}"
   ]
  },
  {
   "cell_type": "code",
   "execution_count": null,
   "metadata": {},
   "outputs": [],
   "source": [
    "seq = [1,2,3,4,5]\n",
    "\n",
    "for item in seq:\n",
    "    print(f'item is {item}')                "
   ]
  },
  {
   "cell_type": "code",
   "execution_count": null,
   "metadata": {},
   "outputs": [],
   "source": [
    "# use break to break out of for loop\n",
    "\n",
    "fruits = [\"apple\", \"banana\", \"cherry\", \"mango\", \"peaches\"]\n",
    "\n",
    "for x in fruits:\n",
    "    print(x)\n",
    "    if x == \"banana\":\n",
    "        print(\"take a break\")\n",
    "        break"
   ]
  },
  {
   "cell_type": "code",
   "execution_count": null,
   "metadata": {},
   "outputs": [],
   "source": [
    "# use continue statement to skip the current iteration of the loop, and continue with the next:\n",
    "\n",
    "fruits = [\"apple\", \"banana\", \"cherry\", \"mango\", \"peaches\"]    \n",
    "\n",
    "print(\"What's for lunch?\")\n",
    "\n",
    "for x in fruits:\n",
    "    if x == \"banana\":                    # let's skip banana for lunch\n",
    "        continue              \n",
    "    print(x)"
   ]
  },
  {
   "cell_type": "code",
   "execution_count": null,
   "metadata": {},
   "outputs": [],
   "source": [
    "# else in for loop - specifies a block of code to be executed when the loop is finished.\n",
    "\n",
    "for x in range(6):\n",
    "    print(x)\n",
    "else:\n",
    "    print(\"Finally finished!\")"
   ]
  },
  {
   "cell_type": "code",
   "execution_count": null,
   "metadata": {},
   "outputs": [],
   "source": [
    "# What will this print?\n",
    "\n",
    "for x in range(6):\n",
    "    if x == 3: \n",
    "        break\n",
    "    print(x)\n",
    "else:\n",
    "    print(\"Finally finished!\")"
   ]
  },
  {
   "cell_type": "code",
   "execution_count": null,
   "metadata": {},
   "outputs": [],
   "source": [
    "# The pass Statement - for statements cannot be empty. Put in the pass statement to avoid getting an error.\n",
    "for x in [0, 1, 2]:\n",
    "    pass                                             # do nothing"
   ]
  },
  {
   "cell_type": "markdown",
   "metadata": {},
   "source": [
    "#### 3.4 List Comprehension \n",
    "- List comprehensions are used for creating new lists from other iterables like tuples, strings, arrays, lists, etc. \n",
    "- A list comprehension consists of brackets containing the expression, which is executed for each element along with the for loop to iterate over each element. <br>\n",
    "- Combines [] with for and if \n",
    "##### Syntax: newList = [<expression(item)> for  (item) in [oldList] if (condition) ] "
   ]
  },
  {
   "cell_type": "code",
   "execution_count": null,
   "metadata": {},
   "outputs": [],
   "source": [
    "# Initializing list\n",
    "List = [12,13,17,22,19,23,16,54,77,96]\n",
    " \n",
    "# Square the even elements of the list\n",
    "newList = [i*i for i in List if i%2 == 0]"
   ]
  },
  {
   "cell_type": "code",
   "execution_count": null,
   "metadata": {},
   "outputs": [],
   "source": [
    "#print(newList)"
   ]
  },
  {
   "cell_type": "code",
   "execution_count": null,
   "metadata": {},
   "outputs": [],
   "source": [
    "# list comprehension is shorter to code and more efficient in execution as well\n",
    "n = 100\n",
    "\n",
    "# get square of number upto 100 - for loop\n",
    "result1 = []\n",
    "for i in range(n):\n",
    "    result1.append(i**2)\n",
    "    \n",
    "# get square of number upto 100 - for loop\n",
    "result2 = [i**2 for i in range(n)]\n",
    "\n",
    "# Check check\n",
    "result1[99] , result2[99]"
   ]
  },
  {
   "cell_type": "code",
   "execution_count": null,
   "metadata": {},
   "outputs": [],
   "source": [
    "# getting square of even numbers from 1 to 50\n",
    "squares = [n**2 for n in range(1, 50) if n%2==0]\n",
    "print(squares)"
   ]
  },
  {
   "cell_type": "code",
   "execution_count": null,
   "metadata": {},
   "outputs": [],
   "source": [
    "# Reverse each string in a tuple\n",
    "List = [string[::-1] for string in ('Best', 'Data', 'Science', 'Guidance', 'Coaching')]\n",
    "#print(List)"
   ]
  },
  {
   "cell_type": "markdown",
   "metadata": {},
   "source": [
    "#### 3.5 While Loop\n",
    "- while loop execute a set of statements as long as a condition is true. \n",
    "- requires relevant variables (checked in condition) to be available\n",
    "- continue statement:  to skip the current iteration\n",
    "- else block: to run a block of code once when the condition no longer is true "
   ]
  },
  {
   "cell_type": "code",
   "execution_count": null,
   "metadata": {},
   "outputs": [],
   "source": [
    "#simple while loop\n",
    "i = 1\n",
    "\n",
    "while i<5:\n",
    "    print(\"loop no\", i)\n",
    "    i+=1\n",
    "\n",
    "print(\"Out of loop\")\n",
    "print(i)"
   ]
  },
  {
   "cell_type": "code",
   "execution_count": null,
   "metadata": {},
   "outputs": [],
   "source": [
    "# use of else - execute when the condition is false\n",
    "i = 7\n",
    "while i < 6:\n",
    "    print(i)\n",
    "    i += 1\n",
    "else:\n",
    "    print(f'Else: i={i}')"
   ]
  },
  {
   "cell_type": "code",
   "execution_count": null,
   "metadata": {},
   "outputs": [],
   "source": [
    "#default arguments\n",
    "def sum(a, b=10): \n",
    "    return a + b\n",
    "\n",
    "num = 5 \n",
    "result = sum(5, 6)                                  # second argument will be set to default\n",
    "#print(result)"
   ]
  },
  {
   "cell_type": "code",
   "execution_count": null,
   "metadata": {},
   "outputs": [],
   "source": [
    "# What will be the output here?\n",
    "def sum(a=10,b):\n",
    "    return a + b\n",
    "\n",
    "result = sum(5)\n",
    "#print(result)"
   ]
  },
  {
   "cell_type": "code",
   "execution_count": null,
   "metadata": {},
   "outputs": [],
   "source": [
    "# passing a list as an argument\n",
    "def print_lunch(items):\n",
    "    for i in items:                             # i has to be an iterable value\n",
    "        print(i)\n",
    "        \n",
    "items = [\"curdrice\", \"salad\", \"pickle\"]\n",
    "\n",
    "#print_lunch(items)"
   ]
  },
  {
   "cell_type": "code",
   "execution_count": null,
   "metadata": {},
   "outputs": [],
   "source": [
    "#what will this print?\n",
    "items = \"Ice Cream\"\n",
    "#print_lunch(items)"
   ]
  },
  {
   "cell_type": "code",
   "execution_count": null,
   "metadata": {},
   "outputs": [],
   "source": []
  }
 ],
 "metadata": {
  "kernelspec": {
   "display_name": "Python 3 (ipykernel)",
   "language": "python",
   "name": "python3"
  },
  "language_info": {
   "codemirror_mode": {
    "name": "ipython",
    "version": 3
   },
   "file_extension": ".py",
   "mimetype": "text/x-python",
   "name": "python",
   "nbconvert_exporter": "python",
   "pygments_lexer": "ipython3",
   "version": "3.9.7"
  }
 },
 "nbformat": 4,
 "nbformat_minor": 2
}
