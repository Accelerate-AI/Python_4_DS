{
 "cells": [
  {
   "cell_type": "markdown",
   "metadata": {},
   "source": [
    "<img src=\"pythonwebinar.png\" style=\"width:650px\">\n",
    "\n",
    "## AccelerateAI - Python for Data Science\n",
    "##### Introduction to Python Language (Python 3)\n",
    "In this notebook we will cover the following:\n",
    "* 6. File Input and Output<br>\n",
    "* 7. Handling Errors and Exceptions<br>\n",
    "* 8. Special: Mutation Rules in Python\n",
    "***"
   ]
  },
  {
   "cell_type": "markdown",
   "metadata": {},
   "source": [
    "### 6. File Input and Output"
   ]
  },
  {
   "cell_type": "markdown",
   "metadata": {},
   "source": [
    "##### 6.1 Reading Keyboard Input\n",
    "- Python has a built-in function to read a line of text from standard input\n",
    "    - input     : reads one line from standard input, evaluates it if its an expresion and returns the evaluated result "
   ]
  },
  {
   "cell_type": "code",
   "execution_count": null,
   "metadata": {},
   "outputs": [],
   "source": [
    "str = (\"Enter your input: \")                        # Get the input from user\n",
    "print(\"Received input is : \", str)                  "
   ]
  },
  {
   "cell_type": "markdown",
   "metadata": {},
   "source": [
    "##### 6.2 Opening and Closing Files\n",
    "- The open Function \n",
    "    - Before we can read or write a file, we have to open it using Python's built-in open() function. \n",
    "    - This function creates a file object, which would be utilized to call other support methods associated with it.\n",
    "    - Syntax: file object = open(file_name [, access_mode][, buffering])\n",
    "    - access mode: <br>\n",
    "        * r - reading, w - writing, a - appending <br>\n",
    "        * \"+\" as suffix implies both modes <br>\n",
    "        * \"b\" as suffix implies binary mode <br>\n",
    "\n",
    "- The close() Method\n",
    "     - The close() method of a file object flushes any unwritten information and closes the file object\n",
    "     - No more writing can be done after the file is closed"
   ]
  },
  {
   "cell_type": "code",
   "execution_count": null,
   "metadata": {},
   "outputs": [],
   "source": [
    "#open the file\n",
    "fileptr = (\"myfile.txt\", \"w\")                             # open a file named \"myfile.txt\" with write permission\n",
    "\n",
    "#file attributes\n",
    "print (\"What is the name of the file? \", fileptr.name)\n",
    "print (\"Is the file closed? \", fileptr.closed)\n",
    "print (\"What mode is the file opened? \", fileptr.mode)\n",
    "\n",
    "fileptr.close()"
   ]
  },
  {
   "cell_type": "markdown",
   "metadata": {},
   "source": [
    "##### 6.3 Reading and Writing Files\n",
    "- The write() Method:\n",
    "    - writes any string to an open file\n",
    "    - python strings can have binary data and not just text\n",
    "    - the method does not add a newline character ('\\n') to the end of the string\n",
    "<br>\n",
    "- The read() Method\n",
    "    - reads a string from an open file\n",
    "<br>\n",
    "- The tell() method \n",
    "    - tells you the current position (bytes) within the file\n",
    "<br>\n",
    "- The seek(offset) method \n",
    "    - changes the current file position"
   ]
  },
  {
   "cell_type": "code",
   "execution_count": null,
   "metadata": {},
   "outputs": [],
   "source": [
    "# Open a file to write\n",
    "fw = open(\"myfile.txt\", \"w\")\n",
    "(\"Python is a great language.\\nYeah its great for data science!!\\n\")         #write this to the file\n",
    "\n",
    "# Close opened file\n",
    "fw.close()\n",
    "\n",
    "#open the file to read\n",
    "fr = open()                                                                  #open the file to read\n",
    "str1 = fr.read(20)\n",
    "print (\"Read String is : \", str1)\n",
    "\n",
    "# Check current position\n",
    "position = fr.tell()\n",
    "print (\"Current file position : \", position)\n",
    "\n",
    "# Reposition pointer at the beginning once again\n",
    "position = fr.seek()                                                         # pass 0,0\n",
    "str2 = fr.read()\n",
    "print (\"Read String is : \", str2)\n",
    "\n",
    "fr.()                                                                        #close the file - always!"
   ]
  },
  {
   "cell_type": "code",
   "execution_count": null,
   "metadata": {},
   "outputs": [],
   "source": [
    "# Read a file line by line and store it into a list\n",
    "def file_read(fname):\n",
    "        with open(fname) as fw: \n",
    "                content_list = fw.readlines()\n",
    "        fw.close()\n",
    "        return content_list\n",
    "\n",
    "mylist =                                                                     #read the file\n",
    "mylist"
   ]
  },
  {
   "cell_type": "markdown",
   "metadata": {},
   "source": [
    "##### 6.4 Deleting a file\n",
    "- The remove() Method\n",
    "    - delete files by supplying the name of the file to be deleted as the argument."
   ]
  },
  {
   "cell_type": "code",
   "execution_count": null,
   "metadata": {},
   "outputs": [],
   "source": [
    "import os\n",
    "\n",
    "# Delete file test2.txt\n",
    "os.remove(\"myfile.txt\")"
   ]
  },
  {
   "cell_type": "code",
   "execution_count": null,
   "metadata": {},
   "outputs": [],
   "source": [
    "print(dir(os))                # other file and directory related functions"
   ]
  },
  {
   "cell_type": "code",
   "execution_count": null,
   "metadata": {},
   "outputs": [],
   "source": [
    "os.sys.version"
   ]
  },
  {
   "cell_type": "markdown",
   "metadata": {},
   "source": [
    "##### In later sessions we will see how to open and read different types of files using special python modules\n",
    " - csv file \n",
    " - excel file \n",
    " - JSON file \n",
    " - HTML file \n",
    " - pdf file\n",
    " - image file "
   ]
  },
  {
   "cell_type": "markdown",
   "metadata": {},
   "source": [
    "### 7. Exception & Error Handling\n",
    " - Python provides two very important features to handle any unexpected error in your Python programs and to add debugging capabilities in them\n",
    "     - Exception Handling - Errors detected during execution are called exceptions, and python provides ways to handle them\n",
    "     - Assertions - a sanity-check that you can turn on or turn off"
   ]
  },
  {
   "cell_type": "code",
   "execution_count": null,
   "metadata": {},
   "outputs": [],
   "source": [
    "10/0"
   ]
  },
  {
   "cell_type": "markdown",
   "metadata": {},
   "source": [
    "##### 7.1 Handling Exception\n",
    "- Exceptions are inherited from Exception whihc is the base class\n",
    "- Many types of exception are defined : TypeError, ValueError, ArithmeticError, ZeroDivisionError, NameError etc."
   ]
  },
  {
   "cell_type": "code",
   "execution_count": null,
   "metadata": {},
   "outputs": [],
   "source": [
    "''' Syntax:\n",
    "try:<br>\n",
    "        some code <br> \n",
    "except ExceptionI: <br>\n",
    "       If there is ExceptionI, then execute this block. <br>\n",
    "except ExceptionII: <br>\n",
    "       If there is ExceptionII, then execute this block. <br>\n",
    "else:\n",
    "       If there is no exception then execute this block. <br>\n",
    "finally: <br> \n",
    "   Always execute ths block.                         <br>\n",
    "'''"
   ]
  },
  {
   "cell_type": "code",
   "execution_count": null,
   "metadata": {},
   "outputs": [],
   "source": [
    "#example\n",
    "try:\n",
    "    fw = open(\"abc/testfile\", \"w\")\n",
    "    fw.write(\"This is my test file for exception handling!!\")\n",
    "except IOError:\n",
    "    print (\"Error: can\\'t find file or read data\")\n",
    "else:\n",
    "    print (\"Written content in the file successfully\")\n",
    "finally:\n",
    "    fw.close()"
   ]
  },
  {
   "cell_type": "code",
   "execution_count": null,
   "metadata": {},
   "outputs": [],
   "source": [
    "# The except Clause with No Exceptions - catches all exceptions\n",
    "try:\n",
    "    a = 10/0\n",
    "except:\n",
    "    print(\"Exception Caught!\")\n",
    "else:\n",
    "    print(\"Value of a is:\", a)"
   ]
  },
  {
   "cell_type": "code",
   "execution_count": null,
   "metadata": {},
   "outputs": [],
   "source": [
    "# Argument in except clause - used to provide more information\n",
    "def get_number(var):\n",
    "    try:\n",
    "        return int(var)\n",
    "    except ValueError as Argument:\n",
    "        print(\"Exception raised\")\n",
    "        print (\"Issue:\", Argument)"
   ]
  },
  {
   "cell_type": "code",
   "execution_count": null,
   "metadata": {},
   "outputs": [],
   "source": [
    "# Call above function here.\n",
    "n = get_number(\"xyz\")"
   ]
  },
  {
   "cell_type": "markdown",
   "metadata": {},
   "source": [
    "### 8. Mutation Rules in Python"
   ]
  },
  {
   "cell_type": "code",
   "execution_count": null,
   "metadata": {},
   "outputs": [],
   "source": [
    "#Assignment creates a reference \n",
    "A = [1,2,3]\n",
    "B = A                                           # a and b both refer to list object whose value is [1,2,3]\n",
    " \n",
    "B[2] = 99\n",
    "print(A)"
   ]
  },
  {
   "cell_type": "code",
   "execution_count": null,
   "metadata": {},
   "outputs": [],
   "source": [
    "# Let assign x some value\n",
    "x = 1\n",
    "y1 = x\n",
    "\n",
    "# Now, change the value of x\n",
    "x = 99\n",
    "y2 = x \n",
    "\n",
    "print (f\"x: {x}, y1:{y1} , y2: {y2}\")                 # What happenned ?? "
   ]
  },
  {
   "cell_type": "code",
   "execution_count": null,
   "metadata": {},
   "outputs": [],
   "source": [
    "# List is Mutable\n",
    "A = [5,6,7]          \n",
    "#print(\"Type:\",type(A), \"\\nID:\",id(A) ,\"\\nVal:\", A)"
   ]
  },
  {
   "cell_type": "code",
   "execution_count": null,
   "metadata": {},
   "outputs": [],
   "source": [
    "# Should be able to change a value\n",
    "A[1] = 99\n",
    "#print(\"Type:\",type(A), \"\\nID:\",id(A) ,\"\\nVal:\", A)"
   ]
  },
  {
   "cell_type": "code",
   "execution_count": null,
   "metadata": {},
   "outputs": [],
   "source": [
    "# Tuple is Un-Mutable\n",
    "B = (3,4,5)         \n",
    "print(\"Type:\",type(B), \"\\nID:\",id(B) ,\"\\nVal:\", B)"
   ]
  },
  {
   "cell_type": "code",
   "execution_count": null,
   "metadata": {},
   "outputs": [],
   "source": [
    "# Should not allow to change a value\n",
    "B[1] = 99\n",
    "#print(\"Type:\",type(A), \"\\nID:\",id(A) ,\"\\nVal:\", A)"
   ]
  },
  {
   "cell_type": "code",
   "execution_count": null,
   "metadata": {},
   "outputs": [],
   "source": [
    "# Now let's see the fun!\n",
    "\n",
    "A=[4,5,6]       #list = mutable\n",
    "B = (1,2,3,A)   #tuple = UN-mutable\n",
    "\n",
    "#print(\"\\nID-A:\",id(A),\"A:\",A ,\"\\nID-B:\",id(B),\"B:\", B)"
   ]
  },
  {
   "cell_type": "code",
   "execution_count": null,
   "metadata": {},
   "outputs": [],
   "source": [
    "#change value of A\n",
    "A[1] = 99\n",
    "#print(\"\\nID-A:\",id(A),\"A:\",A ,\"\\nID-B:\",id(B),\"B:\", B)"
   ]
  },
  {
   "cell_type": "markdown",
   "metadata": {},
   "source": [
    "#### Wasn't B supposed to not change??"
   ]
  },
  {
   "cell_type": "markdown",
   "metadata": {},
   "source": [
    " <img src=\"mutablerule.png\" style=\"width:800px\" align='left'>"
   ]
  },
  {
   "cell_type": "code",
   "execution_count": null,
   "metadata": {},
   "outputs": [],
   "source": [
    "# Passing a parameter in a function - behaves similar to assignment\n",
    "def fun(x):\n",
    "    x[0] = 99\n",
    "    return x\n",
    "\n",
    "g = [1,2,3]\n",
    "\n",
    "fun(g)                                                #Will g[] change?\n",
    "\n",
    "#print(fun(g), g)"
   ]
  },
  {
   "cell_type": "code",
   "execution_count": null,
   "metadata": {},
   "outputs": [],
   "source": [
    "def fun(x):\n",
    "    x = 99\n",
    "    return x\n",
    "\n",
    "g = 1\n",
    "fun(g)                                                #Will g change?\n",
    "\n",
    "#print(g, fun(g)) "
   ]
  },
  {
   "cell_type": "code",
   "execution_count": null,
   "metadata": {},
   "outputs": [],
   "source": []
  }
 ],
 "metadata": {
  "kernelspec": {
   "display_name": "Python 3 (ipykernel)",
   "language": "python",
   "name": "python3"
  },
  "language_info": {
   "codemirror_mode": {
    "name": "ipython",
    "version": 3
   },
   "file_extension": ".py",
   "mimetype": "text/x-python",
   "name": "python",
   "nbconvert_exporter": "python",
   "pygments_lexer": "ipython3",
   "version": "3.9.7"
  }
 },
 "nbformat": 4,
 "nbformat_minor": 2
}
