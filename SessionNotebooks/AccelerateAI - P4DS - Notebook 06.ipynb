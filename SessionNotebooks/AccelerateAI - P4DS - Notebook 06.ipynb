{
 "cells": [
  {
   "cell_type": "markdown",
   "metadata": {},
   "source": [
    "### AccelerateAI - Python for Data Science\n",
    "##### Introduction to Python Language  (Python 3) \n",
    "In this notebook we will cover the following: \n",
    "* 1. String & Text Manipulation <br>\n",
    "* 2. Regular Expression\n",
    "***"
   ]
  },
  {
   "cell_type": "markdown",
   "metadata": {},
   "source": [
    "#### 1. String & Text Manipulation"
   ]
  },
  {
   "cell_type": "code",
   "execution_count": null,
   "metadata": {},
   "outputs": [],
   "source": [
    "#a string is a sequence of characters.\n",
    "message = \"Have a wonderful day!\"\n",
    "print(message[0:5])                       #print first 4 characters"
   ]
  },
  {
   "cell_type": "code",
   "execution_count": null,
   "metadata": {},
   "outputs": [],
   "source": [
    "#number of characters in a string\n",
    "len(message)"
   ]
  },
  {
   "cell_type": "code",
   "execution_count": null,
   "metadata": {},
   "outputs": [],
   "source": [
    "message.upper()                       # lower(), capitalize()"
   ]
  },
  {
   "cell_type": "code",
   "execution_count": null,
   "metadata": {},
   "outputs": [],
   "source": [
    "# index of a substring\n",
    "message.(\"day\")"
   ]
  },
  {
   "cell_type": "code",
   "execution_count": null,
   "metadata": {},
   "outputs": [],
   "source": [
    "#how many 'a' are there?\n",
    "message.count(a)"
   ]
  },
  {
   "cell_type": "code",
   "execution_count": null,
   "metadata": {},
   "outputs": [],
   "source": [
    "# break into 3 parts \n",
    "message.(' ')                             #partition: part 1,middle=\" \", part3"
   ]
  },
  {
   "cell_type": "code",
   "execution_count": null,
   "metadata": {},
   "outputs": [],
   "source": [
    "# break into seperate words\n",
    "message.(\" \")                             #rsplit"
   ]
  },
  {
   "cell_type": "code",
   "execution_count": null,
   "metadata": {},
   "outputs": [],
   "source": [
    "#String formatting - adding variable information\n",
    "quantity = 3\n",
    "itemno = 567\n",
    "price = 49.95\n",
    "myorder = \"I want {} pieces of item {} for {} dollars.\""
   ]
  },
  {
   "cell_type": "code",
   "execution_count": null,
   "metadata": {},
   "outputs": [],
   "source": [
    "# c-style printing\n",
    "print(\"I want % pieces of item % for %.2f dollars.\" %(quantity, itemno, price))"
   ]
  },
  {
   "cell_type": "code",
   "execution_count": null,
   "metadata": {},
   "outputs": [],
   "source": [
    "# string formatting function\n",
    "print(myorder.format(quantity, , price))"
   ]
  },
  {
   "cell_type": "code",
   "execution_count": null,
   "metadata": {},
   "outputs": [],
   "source": [
    "# formatted-string - fstring for short\n",
    "print('I want {quantity} pieces of item {itemno} for {price} dollars.')"
   ]
  },
  {
   "cell_type": "code",
   "execution_count": null,
   "metadata": {},
   "outputs": [],
   "source": [
    "# f-string are fast and they are evaluated as expressions\n",
    "list = [1, 2, 3, 4, 5]\n",
    "print('The sum is: {sum(list)}')"
   ]
  },
  {
   "cell_type": "markdown",
   "metadata": {},
   "source": [
    "#### 2 Regular expressions\n",
    "- a package called re, which can be used to work with regular expressions\n",
    "- Functions:\n",
    "     - findall: Returns a list containing all matches\n",
    "     - search : Returns a Match object if there is a match anywhere in the string\n",
    "     - split: Returns a list where the string has been split at each match\n",
    "     - sub: Replaces one or many matches with a string\n",
    "     \n",
    "- Character description\n",
    "    - []\tA set of characters\t\t\n",
    "    - \\\tSignals a special sequence\t\n",
    "    - .\tAny character \t\n",
    "    - ^\tStarts with\t\n",
    "    - $\tEnds with\t\t\n",
    "    - '*'\tZero or more occurrences\n",
    "    - '+'\tOne or more occurrences\t\t\n",
    "    - ?\tZero or one occurrences\t\t\n",
    "    - {}\tExactly the specified number of occurrences\t\n",
    "    - |\tEither or\t\n",
    "    - ()\tCapture and group"
   ]
  },
  {
   "cell_type": "code",
   "execution_count": null,
   "metadata": {},
   "outputs": [],
   "source": [
    "import re"
   ]
  },
  {
   "cell_type": "code",
   "execution_count": null,
   "metadata": {},
   "outputs": [],
   "source": [
    "text = \"It rained in Spain\"\n",
    "x = re.(\"ai\", text)\n",
    "print(x)"
   ]
  },
  {
   "cell_type": "code",
   "execution_count": null,
   "metadata": {},
   "outputs": [],
   "source": [
    "x = re.(\"\\s\", text)        # \\s -> white space character\n",
    "print(x)"
   ]
  },
  {
   "cell_type": "code",
   "execution_count": null,
   "metadata": {},
   "outputs": [],
   "source": [
    "# replacing parts of strings\n",
    "str = 'aaa@gmail.com bbb@hotmail.com ccc@apple.com'\n",
    "print(re.sub('', 'info@', str))                         #anything before @ with info"
   ]
  },
  {
   "cell_type": "code",
   "execution_count": null,
   "metadata": {},
   "outputs": [],
   "source": [
    "str = 'aaa@gmail.com bbb@hotmail.com ccc@apple.com'\n",
    "print(re.sub('gmail|hotmail|apple', 'accelerateai', ))"
   ]
  },
  {
   "cell_type": "code",
   "execution_count": null,
   "metadata": {},
   "outputs": [],
   "source": [
    "# searching for specific pattern - re.search() \n",
    "# it takes a regular expression pattern and a string and searches for that pattern within the string. \n",
    "# If the search is successful, search() returns a match object\n",
    "\n",
    "str = 'purple alice-b@google.com monkey dishwasher'\n",
    "\n",
    "match = re.search(r'([\\w.-]+)@([\\w.-]+)', str)\n",
    "if match:\n",
    "    print(match.group())   ## (the whole match)\n",
    "    print(match.group(1))  ## (the username, group 1)\n",
    "    print(match.group(2))  ## (the host, group 2)"
   ]
  },
  {
   "cell_type": "code",
   "execution_count": null,
   "metadata": {},
   "outputs": [],
   "source": [
    "## re.findall() returns a list of all the found email strings\n",
    "str = 'purple alice@google.com, blah monkey bob@abc.com blah dishwasher'\n",
    "\n",
    "emails = re.findall(r'[\\w\\.-]+@[\\w\\.-]+', str) \n",
    "\n",
    "for email in emails:\n",
    "    print(email)"
   ]
  },
  {
   "cell_type": "code",
   "execution_count": null,
   "metadata": {},
   "outputs": [],
   "source": []
  }
 ],
 "metadata": {
  "kernelspec": {
   "display_name": "Python 3 (ipykernel)",
   "language": "python",
   "name": "python3"
  },
  "language_info": {
   "codemirror_mode": {
    "name": "ipython",
    "version": 3
   },
   "file_extension": ".py",
   "mimetype": "text/x-python",
   "name": "python",
   "nbconvert_exporter": "python",
   "pygments_lexer": "ipython3",
   "version": "3.9.7"
  }
 },
 "nbformat": 4,
 "nbformat_minor": 2
}
