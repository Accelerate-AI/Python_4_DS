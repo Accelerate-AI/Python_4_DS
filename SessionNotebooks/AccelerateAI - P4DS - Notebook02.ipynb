{
 "cells": [
  {
   "cell_type": "markdown",
   "metadata": {},
   "source": [
    "<img src=\"pythonwebinar.png\" style=\"width:650px\">\n",
    "\n",
    "## AccelerateAI - Python for Data Science - Notebook 02\n",
    "In this notebook we will cover the following:\n",
    "* 4. Function & Modules<br>\n",
    "* 5. Classes  & Objects<br>\n",
    "***"
   ]
  },
  {
   "cell_type": "markdown",
   "metadata": {},
   "source": [
    "### 4. Functions\n",
    "- a block of code which only runs when it is called\n",
    "- can pass data, known as parameters, into a function\n",
    "- can return data (multiple values) as a result\n",
    "- use the function name followed by parenthesis to call the function\n",
    "- arguments are specified after the function name, inside the parentheses\n",
    "\n",
    "Functions are one of the \"first-class citizens\" of Python:\n",
    " - which means that functions are at the same level as other Python objects like integers, strings, modules, etc. \n",
    " - can be created and destroyed dynamically, passed to other functions, returned as values, etc."
   ]
  },
  {
   "cell_type": "code",
   "execution_count": null,
   "metadata": {},
   "outputs": [],
   "source": [
    "# function definition starts with def and has a colon. curly brackets are not required\n",
    "def square(num):\n",
    "    return num**2\n",
    "\n",
    "a = 23\n",
    "result =                                      #call the square function\n",
    "print(result)"
   ]
  },
  {
   "cell_type": "code",
   "execution_count": null,
   "metadata": {},
   "outputs": [],
   "source": [
    "# multiple return values - tupling\n",
    "def add(a, b):\n",
    "    return                                    #complete the return statement\n",
    "\n",
    "c,d = add(3, 2)\n",
    "print(c,d)"
   ]
  },
  {
   "cell_type": "code",
   "execution_count": null,
   "metadata": {},
   "outputs": [],
   "source": [
    "# The point of return\n",
    "\n",
    "#return a tuple - how do my colleague knows what is what?\n",
    "def do_something_with_x(x):\n",
    "    y0 = x + 3\n",
    "    y1 = x * 3\n",
    "    y2 = y0 ** 3\n",
    "    return (y0, y1, y2)\n",
    "\n",
    "#return a dictionary - now they better know! \n",
    "def do_something_with_x(x):\n",
    "    y0 = x + 3\n",
    "    y1 = x * 3\n",
    "    y2 = y0 ** 3\n",
    "    return {'add': y0, 'multiply': y1 ,'exponent': y2}"
   ]
  },
  {
   "cell_type": "code",
   "execution_count": null,
   "metadata": {},
   "outputs": [],
   "source": [
    "# Type hint - tell the parameter and return types\n",
    "\n",
    "def greeting(name:str) -> str:\n",
    "    return 'Hello ' + name\n",
    "\n",
    "greeting(\"Vitalie\")"
   ]
  },
  {
   "cell_type": "code",
   "execution_count": null,
   "metadata": {},
   "outputs": [],
   "source": [
    "# A good practise, not enforced at runtime.\n",
    "    \n",
    "def sum_it(a:int, b:int) -> int:\n",
    "    return a + b\n",
    "\n",
    "sum_it(2.5, 3.6)"
   ]
  },
  {
   "cell_type": "markdown",
   "metadata": {},
   "source": [
    "#### 4.2 Arbitrary Arguments :  *  and  **\n",
    " - 1. Arbitrary arguments, *args \n",
    "     - function takes a list of arguments\n",
    " - 2. Arbitrary Named(keyword) arguments, **kwargs \n",
    "      - function takes a dictionary of arguments"
   ]
  },
  {
   "cell_type": "code",
   "execution_count": null,
   "metadata": {},
   "outputs": [],
   "source": [
    "def display_list(*args):\n",
    "    for i in args:\n",
    "        print(i)\n",
    "\n",
    "display_list()                                #Pass the parameters for Emma"
   ]
  },
  {
   "cell_type": "code",
   "execution_count": null,
   "metadata": {},
   "outputs": [],
   "source": [
    "def display_dict(emp, **kwargs):\n",
    "    for i in kwargs:\n",
    "        print(kwargs[i])\n",
    "\n",
    "display_dict(emp=\"Emma\", age=25, city)        #provide value for city"
   ]
  },
  {
   "cell_type": "code",
   "execution_count": null,
   "metadata": {},
   "outputs": [],
   "source": [
    "#default arguments\n",
    "def sum(a, b=10): \n",
    "    return a + b\n",
    "\n",
    "num = 5 \n",
    "result = sum(5)                     # second argument will be set to default\n",
    "print(result)"
   ]
  },
  {
   "cell_type": "code",
   "execution_count": null,
   "metadata": {},
   "outputs": [],
   "source": [
    "# What will be the output here?\n",
    "def sum(a=10,b):\n",
    "    return a + b\n",
    "\n",
    "result = sum(5)"
   ]
  },
  {
   "cell_type": "code",
   "execution_count": null,
   "metadata": {},
   "outputs": [],
   "source": [
    "# passing a list as an argument\n",
    "def print_lunch(items):\n",
    "    for i in items:                  # i has to be an iterable value\n",
    "        print(i)\n",
    "        \n",
    "items = [\"burger\", \"salad\", \"pickle\"]\n",
    "\n",
    "print_lunch()                        # pass items in the function"
   ]
  },
  {
   "cell_type": "code",
   "execution_count": null,
   "metadata": {},
   "outputs": [],
   "source": [
    "#what will this print?\n",
    "items = \"Ice Cream\"\n",
    "print_lunch(items)"
   ]
  },
  {
   "cell_type": "markdown",
   "metadata": {},
   "source": [
    "#### 4.3 Recursion \n",
    " - Recursion is a common mathematical and programming concept. It means that a function calls itself. \n",
    " - This has the benefit of meaning that you can loop through data to reach a result.\n",
    " - Python also accepts function recursion, which means a defined function can call itself.\n",
    " - Avoid recursion unless really required - hard to understand, debug, causes memory overload"
   ]
  },
  {
   "cell_type": "code",
   "execution_count": null,
   "metadata": {},
   "outputs": [],
   "source": [
    "#finding the greatest common divisor recursively\n",
    "def gcd(p, q):\n",
    "    if q == 0:\n",
    "        return p\n",
    "    return gcd(q , p%q)\n",
    "\n",
    "gcd(84, 36)"
   ]
  },
  {
   "cell_type": "code",
   "execution_count": null,
   "metadata": {},
   "outputs": [],
   "source": [
    "# write a function to calculate the factorial of a number \n",
    "\n",
    "def factorial(n):\n",
    "    if n==1:\n",
    "        return                               # What is the factorial of 1?\n",
    "    else:\n",
    "        return                               # Complete the return statement. We know (n)! = n * (n-1)!\n",
    "\n",
    "factorial(10)"
   ]
  },
  {
   "cell_type": "markdown",
   "metadata": {},
   "source": [
    "#### 4.4 Lambda function \n",
    "- a small anonymous function\n",
    "- can only have one expression\n",
    "- can take any number of arguments \n",
    "\n",
    "##### Syntax:  lambda arguments : expression "
   ]
  },
  {
   "cell_type": "code",
   "execution_count": null,
   "metadata": {},
   "outputs": [],
   "source": [
    "multiply = lambda a, b : a * b                  #use lambda keyword\n",
    "\n",
    "print(multiply(5, 6))"
   ]
  },
  {
   "cell_type": "code",
   "execution_count": null,
   "metadata": {},
   "outputs": [],
   "source": [
    "# Write a lambda function to sum 3 integers \n"
   ]
  },
  {
   "cell_type": "code",
   "execution_count": null,
   "metadata": {},
   "outputs": [],
   "source": [
    "# Write a lambda function to square even numbers in a list\n"
   ]
  },
  {
   "cell_type": "code",
   "execution_count": null,
   "metadata": {},
   "outputs": [],
   "source": [
    "#map function - applies a function over an iterator\n",
    "from math import * \n",
    "\n",
    "seq = [1,2,3,4,5]\n",
    "result = (sqrt, seq)                            #apply math.sqrt() to each element in seq\n",
    "\n",
    "list(result)                                    #get the result in a list "
   ]
  },
  {
   "cell_type": "markdown",
   "metadata": {},
   "source": [
    "#### 4.5 Passing Function as parameters\n",
    " - functions can be passed as arguments to another function\n",
    " - functions like map, filter and reduce in Python, work this way"
   ]
  },
  {
   "cell_type": "code",
   "execution_count": null,
   "metadata": {},
   "outputs": [],
   "source": [
    "def add1(x):\n",
    "    return x + 1\n",
    "\n",
    "\n",
    "def sub1(x):\n",
    "    return x - 1\n",
    "\n",
    "\n",
    "def update(x, func):\n",
    "    result = func(x)\n",
    "    return result"
   ]
  },
  {
   "cell_type": "code",
   "execution_count": null,
   "metadata": {},
   "outputs": [],
   "source": [
    "update(5,)                                         # pass add as parameter"
   ]
  },
  {
   "cell_type": "code",
   "execution_count": null,
   "metadata": {},
   "outputs": [],
   "source": [
    "update(5,)                                         # pass substract as parameter"
   ]
  },
  {
   "cell_type": "markdown",
   "metadata": {},
   "source": [
    "#### 4.6 Nested Function\n",
    "- Python supports the concept of a \"nested function\" or \"inner function\", which is simply a function defined inside another function. \n",
    "- The inner function is able to access the variables within the enclosing scope. \n",
    "\n",
    "There are various reasons as to why one would like to create a function inside another function:\n",
    "- Encapsulation\n",
    "- Generator Function"
   ]
  },
  {
   "cell_type": "code",
   "execution_count": null,
   "metadata": {},
   "outputs": [],
   "source": [
    "def function1(): # outer function\n",
    "    print (\"Hello from outer function\")\n",
    "    def function2(): # inner function\n",
    "        print (\"Hello from inner function\")\n",
    "    function2()"
   ]
  },
  {
   "cell_type": "code",
   "execution_count": null,
   "metadata": {},
   "outputs": [],
   "source": [
    "#function1()"
   ]
  },
  {
   "cell_type": "code",
   "execution_count": null,
   "metadata": {},
   "outputs": [],
   "source": [
    "#give new_function a new name\n",
    "\n",
    "#new_function = function1\n",
    "new_function()"
   ]
  },
  {
   "cell_type": "code",
   "execution_count": null,
   "metadata": {},
   "outputs": [],
   "source": [
    "# Generator function example\n",
    "\n",
    "def power_generator(power):\n",
    "    # Create the inner function\n",
    "    def power_n(num):\n",
    "        return num ** power\n",
    "\n",
    "    return power_n"
   ]
  },
  {
   "cell_type": "code",
   "execution_count": null,
   "metadata": {},
   "outputs": [],
   "source": [
    "square = power_generator()                           # pass 2 as parameter\n",
    "cube = power_generator()                             # pass 3 as parameter"
   ]
  },
  {
   "cell_type": "code",
   "execution_count": null,
   "metadata": {},
   "outputs": [],
   "source": [
    "print(square(3))\n",
    "print(cube(3))"
   ]
  },
  {
   "cell_type": "markdown",
   "metadata": {},
   "source": [
    "#### 4.6 Decorator Functions\n",
    " - These functions add aditional functionality to existing functions\n",
    " - Useful when original function code is not available for editing"
   ]
  },
  {
   "cell_type": "code",
   "execution_count": null,
   "metadata": {},
   "outputs": [],
   "source": [
    "def printer(msg):\n",
    "    print(msg)"
   ]
  },
  {
   "cell_type": "code",
   "execution_count": null,
   "metadata": {},
   "outputs": [],
   "source": [
    "printer(\"I am learning Data Science\")"
   ]
  },
  {
   "cell_type": "code",
   "execution_count": null,
   "metadata": {},
   "outputs": [],
   "source": [
    "#decorator example\n",
    "def decorate(func):\n",
    "    def inner(msg):\n",
    "        print(\"%\" * 30)\n",
    "        func(msg)\n",
    "        print(\"%\" * 30)\n",
    "    return inner\n",
    "\n",
    "@decorate\n",
    "def printer(msg):\n",
    "    print(msg)"
   ]
  },
  {
   "cell_type": "code",
   "execution_count": null,
   "metadata": {},
   "outputs": [],
   "source": [
    "printer(\"I am learning Data Science\")"
   ]
  },
  {
   "cell_type": "code",
   "execution_count": null,
   "metadata": {},
   "outputs": [],
   "source": []
  },
  {
   "cell_type": "markdown",
   "metadata": {},
   "source": [
    "#### 4.8 Modules \n",
    "- In Python, Modules are simply files with the “. py” extension containing Python code \n",
    "- They can be imported inside another Python Program\n",
    "- A module is a code library or a file that contains a set of functions\n",
    "- The Python standard library contains well over 200 modules, although the exact number varies between distributions "
   ]
  },
  {
   "cell_type": "code",
   "execution_count": null,
   "metadata": {},
   "outputs": [],
   "source": [
    "import math                                        # use import to import a module"
   ]
  },
  {
   "cell_type": "code",
   "execution_count": null,
   "metadata": {},
   "outputs": [],
   "source": [
    "# dir is used to find all function defined inside a module\n",
    "#dir(math)"
   ]
  },
  {
   "cell_type": "code",
   "execution_count": null,
   "metadata": {},
   "outputs": [],
   "source": [
    "from math import sin , pi\n",
    "\n",
    "x = sin(2*pi)\n",
    "\n",
    "print (x)"
   ]
  },
  {
   "cell_type": "code",
   "execution_count": null,
   "metadata": {},
   "outputs": [],
   "source": [
    "# user defined module \n",
    "import mymodule"
   ]
  },
  {
   "cell_type": "code",
   "execution_count": null,
   "metadata": {},
   "outputs": [],
   "source": [
    "dir(mymodule)                                     # let's take a peek"
   ]
  },
  {
   "cell_type": "code",
   "execution_count": null,
   "metadata": {},
   "outputs": [],
   "source": [
    "mymodule.                                        # get the quote of the day"
   ]
  },
  {
   "cell_type": "code",
   "execution_count": null,
   "metadata": {},
   "outputs": [],
   "source": [
    "# Question  - How to unload a module in Python?"
   ]
  },
  {
   "cell_type": "markdown",
   "metadata": {},
   "source": [
    "### 5. Classes and Objects\n",
    "- Python is an object oriented programming (OOP) language\n",
    "    - OOP is a paradigm based on the concept of \"objects\", which can contain data and code\n",
    "- almost everything in python is an object (including classes and functions), with its properties and methods\n",
    "- a class defines all the variables(data) and functions(code)\n",
    "- python has encapsulation, inheritance, and polymorphism : all 3 pillars of OOP\n",
    "- An object is an instantiation of a class - this is where memory allocation happens\n",
    "- Further reading: Namespace and Scope: https://docs.python.org/3/tutorial/classes.html#python-scopes-and-namespaces"
   ]
  },
  {
   "cell_type": "code",
   "execution_count": null,
   "metadata": {},
   "outputs": [],
   "source": [
    "# a simple class\n",
    "class pythonClass:\n",
    "\n",
    "    action = \" is creating a python class\"              # class variable - shared by all objects\n",
    "\n",
    "    def type(self, name):                               # methods  \n",
    "        return name + self.action                       #class variables need a self. prefix "
   ]
  },
  {
   "cell_type": "code",
   "execution_count": null,
   "metadata": {},
   "outputs": [],
   "source": [
    "#object creation\n",
    "myClass = pythonClass()\n",
    "myClass.type(\"Sachin\")"
   ]
  },
  {
   "cell_type": "code",
   "execution_count": null,
   "metadata": {},
   "outputs": [],
   "source": [
    "print (\"Type\", type(myClass))"
   ]
  },
  {
   "cell_type": "code",
   "execution_count": null,
   "metadata": {},
   "outputs": [],
   "source": [
    "print (\"Dir \", dir(myClass))"
   ]
  },
  {
   "cell_type": "code",
   "execution_count": null,
   "metadata": {},
   "outputs": [],
   "source": [
    "print (\"action\", type(myClass.action))\n",
    "print (\"type\", type(myClass.type))"
   ]
  },
  {
   "cell_type": "code",
   "execution_count": null,
   "metadata": {},
   "outputs": [],
   "source": [
    "# Count the instance of class\n",
    "\n",
    "class GuestList:\n",
    "    _x = 0                                              #counter\n",
    "    def __init__(self, name):\n",
    "        self.name = name\n",
    "        self._x = self._x + 1                 \n",
    "        print(self.name,'arrived')\n",
    "\n",
    "    def count(self) :\n",
    "        print(self.name,'Guest count',self._x)"
   ]
  },
  {
   "cell_type": "code",
   "execution_count": null,
   "metadata": {},
   "outputs": [],
   "source": [
    "#What's wrong with the above?"
   ]
  },
  {
   "cell_type": "code",
   "execution_count": null,
   "metadata": {},
   "outputs": [],
   "source": [
    "k = GuestList('Anurag')\n",
    "k.count()"
   ]
  },
  {
   "cell_type": "code",
   "execution_count": null,
   "metadata": {},
   "outputs": [],
   "source": [
    "s = GuestList('Cheena')\n",
    "s.count()"
   ]
  },
  {
   "cell_type": "code",
   "execution_count": null,
   "metadata": {},
   "outputs": [],
   "source": [
    "class GuestList:\n",
    "    _x = 0                                              #counter\n",
    "    def __init__(self, name):\n",
    "        self.name = name\n",
    "        GuestList._x = GuestList._x + 1                 #referenced by class name   \n",
    "        print(self.name,'arrived')\n",
    "\n",
    "    def count(self) :\n",
    "        print(self.name,'Guest count',GuestList._x)"
   ]
  },
  {
   "cell_type": "code",
   "execution_count": null,
   "metadata": {},
   "outputs": [],
   "source": [
    "k = GuestList('Akshita')\n",
    "k.count()"
   ]
  },
  {
   "cell_type": "code",
   "execution_count": null,
   "metadata": {},
   "outputs": [],
   "source": [
    "s = GuestList('DhanaLakshmi')\n",
    "s.count()"
   ]
  },
  {
   "cell_type": "code",
   "execution_count": null,
   "metadata": {},
   "outputs": [],
   "source": [
    "m = GuestList('Julia')\n",
    "m.count()"
   ]
  },
  {
   "cell_type": "code",
   "execution_count": null,
   "metadata": {},
   "outputs": [],
   "source": [
    "stuff = list()\n",
    "stuff.append('python')\n",
    "stuff.append('program')\n",
    "stuff.append('easy')\n",
    "stuff.append('interesting')\n",
    "stuff.sort()"
   ]
  },
  {
   "cell_type": "code",
   "execution_count": null,
   "metadata": {},
   "outputs": [],
   "source": [
    "print (stuff[0])"
   ]
  },
  {
   "cell_type": "markdown",
   "metadata": {},
   "source": [
    "##### 5.1 Operator Overloading\n",
    " - special methods that specify the behavior of operators on user defined objects "
   ]
  },
  {
   "cell_type": "code",
   "execution_count": null,
   "metadata": {},
   "outputs": [],
   "source": [
    "# Example of operator overloading - Adding 2 time objects\n",
    "\n",
    "class Time(object):\n",
    "\n",
    "    hour, minute, sec = 0,0,0\n",
    "    \n",
    "    def __init__(self, hr=0,mn=0,sc=0):\n",
    "        self.hour = hr\n",
    "        self.minute = mn\n",
    "        self.sec = sc\n",
    "        \n",
    "    def __str__(self):                                                   #what does this do? \n",
    "        return '%.2d:%.2d:%.2d' % (self.hour, self.minute, self.sec)\n",
    "    \n",
    "    def time_to_int(time):\n",
    "        minutes = time.hour * 60 + time.minute\n",
    "        seconds = minutes * 60 + time.sec\n",
    "        return seconds\n",
    "    \n",
    "    def add_time(t1, t2):\n",
    "        seconds = time_to_int(t1) + time_to_int(t2)\n",
    "        return int_to_time(seconds)\n",
    "\n",
    "    def __add__(self, other):                                                     \n",
    "        seconds = self.time_to_int() + other.time_to_int()\n",
    "        return int_to_time(seconds)\n",
    "\n",
    "def int_to_time(seconds):                                                  # why is defined outside the class??\n",
    "    time = Time()\n",
    "    minutes, time.sec = divmod(seconds, 60)\n",
    "    time.hour, time.minute = divmod(minutes, 60)\n",
    "    return time"
   ]
  },
  {
   "cell_type": "code",
   "execution_count": null,
   "metadata": {},
   "outputs": [],
   "source": [
    "start = Time(9, 45)\n",
    "duration = Time(1, 35)\n",
    "print (start + duration)"
   ]
  },
  {
   "cell_type": "code",
   "execution_count": null,
   "metadata": {},
   "outputs": [],
   "source": []
  },
  {
   "cell_type": "code",
   "execution_count": null,
   "metadata": {},
   "outputs": [],
   "source": []
  }
 ],
 "metadata": {
  "kernelspec": {
   "display_name": "Python 3 (ipykernel)",
   "language": "python",
   "name": "python3"
  },
  "language_info": {
   "codemirror_mode": {
    "name": "ipython",
    "version": 3
   },
   "file_extension": ".py",
   "mimetype": "text/x-python",
   "name": "python",
   "nbconvert_exporter": "python",
   "pygments_lexer": "ipython3",
   "version": "3.9.7"
  }
 },
 "nbformat": 4,
 "nbformat_minor": 2
}
